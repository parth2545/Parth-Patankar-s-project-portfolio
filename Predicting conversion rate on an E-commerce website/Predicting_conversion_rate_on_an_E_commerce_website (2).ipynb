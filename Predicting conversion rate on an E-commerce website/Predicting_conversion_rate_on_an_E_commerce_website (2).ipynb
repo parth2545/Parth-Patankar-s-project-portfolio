{
  "nbformat": 4,
  "nbformat_minor": 0,
  "metadata": {
    "colab": {
      "name": "Predicting conversion rate on an E-commerce website.ipynb",
      "provenance": []
    },
    "kernelspec": {
      "name": "python3",
      "display_name": "Python 3"
    },
    "language_info": {
      "name": "python"
    }
  },
  "cells": [
    {
      "cell_type": "markdown",
      "metadata": {
        "id": "u0ysivZ9dR3G"
      },
      "source": [
        "# Predicting conversion rate on an E-commerce website"
      ]
    },
    {
      "cell_type": "markdown",
      "metadata": {
        "id": "IddNOEJ2g6Gi"
      },
      "source": [
        "Decision Tree are great way to predict the data. It has many benefits in classification \n",
        "and regression analysis. But it also has some lows as overfitting, unbalancing etc. To \n",
        "overcomes this lows following ensembles techniques are used :\n",
        "\n",
        "1. Random forest \n",
        "2. Adaptive booster \n",
        "3. Gradient boosting \n",
        "4. XGBoost \n",
        "5. Bagging."
      ]
    },
    {
      "cell_type": "code",
      "metadata": {
        "id": "ndWFZ-qNdq9V"
      },
      "source": [
        "import numpy as np\n",
        "import pandas as pd\n",
        "import matplotlib.pyplot as plt\n",
        "import seaborn as sns\n",
        "from sklearn.model_selection import train_test_split\n",
        "from sklearn.preprocessing import StandardScaler\n",
        "from sklearn import tree\n",
        "from sklearn.model_selection import GridSearchCV\n",
        "from sklearn import metrics\n",
        "from imblearn.over_sampling import SMOTE \n",
        "from sklearn.ensemble import RandomForestClassifier, AdaBoostClassifier, GradientBoostingClassifier\n",
        "import plotly .offline as offline\n",
        "import plotly.figure_factory as ff\n"
      ],
      "execution_count": 10,
      "outputs": []
    },
    {
      "cell_type": "markdown",
      "metadata": {
        "id": "pipQv6jyhTJq"
      },
      "source": [
        "## Data Processing \n",
        "\n",
        "We used some of the techniques on our E-shop data to find out perfect fitting model. After \n",
        "converting categorical data into number, we ran correlation map to find out highly correlated \n",
        "elements. It shows that *Exit Rate* and* Product Related* column has high correlation with bounce \n",
        "rate and Product Related Duration column,respectively. Therefore, we dropped it"
      ]
    },
    {
      "cell_type": "code",
      "metadata": {
        "colab": {
          "base_uri": "https://localhost:8080/"
        },
        "id": "637NErhUdud6",
        "outputId": "e0fe1dab-b4bc-4cca-ac09-5d63d05e0952"
      },
      "source": [
        "####Cleaning data\n",
        "# Importing dataset and examining it\n",
        "dataset = pd.read_csv(\"E-Shop.csv\")\n",
        "print(dataset.head())\n",
        "print(dataset.shape)\n",
        "print(dataset.info())\n",
        "print(dataset.describe())\n",
        "# Converting catagorical into numerical\n",
        "dataset['Month'] = dataset['Month'].map({'Jan':0, 'Feb':1, 'Mar':2, 'Apr':3, 'May':4, 'June':5, 'Jul':6, 'Aug':7, 'Sep':8, 'Oct':9, 'Nov':10,'Dec':11,})\n",
        "dataset['VisitorType'] = dataset['VisitorType'].map({'Returning_Visitor':1, 'New_Visitor':0})\n",
        "dataset['Weekend'] = dataset['Weekend'].map({True :1, False:0})\n",
        "dataset['Transaction'] = dataset['Transaction'].map({True:1, False:0})\n"
      ],
      "execution_count": 11,
      "outputs": [
        {
          "output_type": "stream",
          "text": [
            "   Administrative  Administrative_Duration  ...  Weekend  Transaction\n",
            "0               0                      0.0  ...    False        False\n",
            "1               0                      0.0  ...    False        False\n",
            "2               0                      0.0  ...    False        False\n",
            "3               0                      0.0  ...    False        False\n",
            "4               0                      0.0  ...     True        False\n",
            "\n",
            "[5 rows x 14 columns]\n",
            "(12245, 14)\n",
            "<class 'pandas.core.frame.DataFrame'>\n",
            "RangeIndex: 12245 entries, 0 to 12244\n",
            "Data columns (total 14 columns):\n",
            " #   Column                   Non-Null Count  Dtype  \n",
            "---  ------                   --------------  -----  \n",
            " 0   Administrative           12245 non-null  int64  \n",
            " 1   Administrative_Duration  12245 non-null  float64\n",
            " 2   Informational            12245 non-null  int64  \n",
            " 3   Informational_Duration   12245 non-null  float64\n",
            " 4   ProductRelated           12245 non-null  int64  \n",
            " 5   ProductRelated_Duration  12245 non-null  float64\n",
            " 6   BounceRate               12245 non-null  float64\n",
            " 7   ExitRate                 12245 non-null  float64\n",
            " 8   PageValue                12245 non-null  float64\n",
            " 9   SpecialDay               12245 non-null  float64\n",
            " 10  Month                    12245 non-null  object \n",
            " 11  VisitorType              12245 non-null  object \n",
            " 12  Weekend                  12245 non-null  bool   \n",
            " 13  Transaction              12245 non-null  bool   \n",
            "dtypes: bool(2), float64(7), int64(3), object(2)\n",
            "memory usage: 1.1+ MB\n",
            "None\n",
            "       Administrative  Administrative_Duration  ...     PageValue    SpecialDay\n",
            "count    12245.000000             12245.000000  ...  12245.000000  12245.000000\n",
            "mean         2.321029                80.944413  ...      5.803858      0.061854\n",
            "std          3.326056               176.579347  ...     18.075511      0.199540\n",
            "min          0.000000                 0.000000  ...      0.000000      0.000000\n",
            "25%          0.000000                 0.000000  ...      0.000000      0.000000\n",
            "50%          1.000000                 8.000000  ...      0.000000      0.000000\n",
            "75%          4.000000                93.600000  ...      0.000000      0.000000\n",
            "max         27.000000              3398.750000  ...    361.763742      1.000000\n",
            "\n",
            "[8 rows x 10 columns]\n"
          ],
          "name": "stdout"
        }
      ]
    },
    {
      "cell_type": "code",
      "metadata": {
        "id": "YerDmx1_eJIL"
      },
      "source": [
        "# Plotting Correlation Heatmap\n",
        "corrs = dataset.corr()\n",
        "figure = ff.create_annotated_heatmap(\n",
        "    z=corrs.values,\n",
        "    x=list(corrs.columns),\n",
        "    y=list(corrs.index),\n",
        "    annotation_text=corrs.round(2).values,\n",
        "    showscale=True)\n",
        "\n"
      ],
      "execution_count": 27,
      "outputs": []
    },
    {
      "cell_type": "code",
      "metadata": {
        "id": "fADhLQo0lh5V"
      },
      "source": [
        "figure"
      ],
      "execution_count": null,
      "outputs": []
    },
    {
      "cell_type": "markdown",
      "metadata": {
        "id": "DHrp6BPWnmUl"
      },
      "source": [
        "![newplot.png](data:image/png;base64,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)"
      ]
    },
    {
      "cell_type": "code",
      "metadata": {
        "id": "fV4Kf1Bbelb0"
      },
      "source": [
        "dataset= dataset.drop(['ExitRate','ProductRelated'],axis =1)"
      ],
      "execution_count": 13,
      "outputs": []
    },
    {
      "cell_type": "code",
      "metadata": {
        "colab": {
          "base_uri": "https://localhost:8080/"
        },
        "id": "pE6RK88ud1Dg",
        "outputId": "d510b5af-c893-4779-c04e-1816a9fe3217"
      },
      "source": [
        "# Dividing dataset into label and feature sets\n",
        "X = dataset.drop('Transaction', axis = 1) # Features\n",
        "Y = dataset['Transaction'] # Labels\n",
        "print(type(X))\n",
        "print(type(Y))\n",
        "print(X.shape)\n",
        "print(Y.shape)\n",
        "# Normalizing numerical features so that each feature has mean 0 and variance 1\n",
        "feature_scaler = StandardScaler()\n",
        "X_scaled = feature_scaler.fit_transform(X)\n",
        "\n",
        "# Dividing dataset into training and test sets\n",
        "X_train, X_test, Y_train, Y_test = train_test_split( X_scaled, Y, test_size = 0.3, random_state = 100)\n",
        "\n",
        "print(X_train.shape)\n",
        "print(X_test.shape)"
      ],
      "execution_count": 16,
      "outputs": [
        {
          "output_type": "stream",
          "text": [
            "<class 'pandas.core.frame.DataFrame'>\n",
            "<class 'pandas.core.series.Series'>\n",
            "(12245, 11)\n",
            "(12245,)\n",
            "(8571, 11)\n",
            "(3674, 11)\n"
          ],
          "name": "stdout"
        }
      ]
    },
    {
      "cell_type": "code",
      "metadata": {
        "colab": {
          "base_uri": "https://localhost:8080/"
        },
        "id": "FW0oaE7JgKNu",
        "outputId": "27c08fa5-38a9-4b44-daa4-c7591f40369d"
      },
      "source": [
        "# Implementing Oversampling to balance the dataset using SMOT\n",
        "print(\"Number of observations in each class before oversampling (training data): \\n\", pd.Series(Y_train).value_counts())\n",
        "smote = SMOTE(random_state = 101)\n",
        "X_train,Y_train = smote.fit_sample(X_train,Y_train)\n",
        "print(\"Number of observations in each class after oversampling (training data): \\n\", pd.Series(Y_train).value_counts())"
      ],
      "execution_count": 17,
      "outputs": [
        {
          "output_type": "stream",
          "text": [
            "Number of observations in each class before oversampling (training data): \n",
            " 0    7248\n",
            "1    1323\n",
            "Name: Transaction, dtype: int64\n",
            "Number of observations in each class after oversampling (training data): \n",
            " 1    7248\n",
            "0    7248\n",
            "dtype: int64\n"
          ],
          "name": "stdout"
        },
        {
          "output_type": "stream",
          "text": [
            "/usr/local/lib/python3.7/dist-packages/sklearn/utils/deprecation.py:87: FutureWarning:\n",
            "\n",
            "Function safe_indexing is deprecated; safe_indexing is deprecated in version 0.22 and will be removed in version 0.24.\n",
            "\n"
          ],
          "name": "stderr"
        }
      ]
    },
    {
      "cell_type": "markdown",
      "metadata": {
        "id": "VP70udIJhruR"
      },
      "source": [
        "## Model Creation\n",
        "\n",
        "If we analyse \n",
        "confusion matrix we get that false positive are the people who are predicted as the one who \n",
        "made transaction but in reality they didn’t and false negative are people who actually did \n",
        "transaction but predicted as they didn’t. As an online store it is important for a website to not \n",
        "loose on potential customer. Therefore, it is important for to tune our model as we get minimum \n",
        "false positive. We believe false negative people are anyways going to make transaction. But if \n",
        "our model predict more false positive customer ,it is potential lose for shop as they won’t get \n",
        "chance to improve their experience as they are already classified as customer ."
      ]
    },
    {
      "cell_type": "markdown",
      "metadata": {
        "id": "4en4mt09iJMs"
      },
      "source": [
        "#### **Random Forest**"
      ]
    },
    {
      "cell_type": "code",
      "metadata": {
        "colab": {
          "base_uri": "https://localhost:8080/"
        },
        "id": "SZjtgbAkgQ0e",
        "outputId": "2a95295d-00e1-43e5-c6fc-250cecd17bab"
      },
      "source": [
        "# Tuning the random forest parameter 'n_estimators' and implementing cross-validation using Grid Search\n",
        "rfc = RandomForestClassifier(criterion='entropy', max_features='auto', random_state=1)\n",
        "grid_param = {'n_estimators': [200, 250, 300, 350, 400,450]}\n",
        "gd_sr = GridSearchCV(estimator=rfc, param_grid=grid_param, scoring='precision', cv=5)\n",
        "gd_sr.fit(X_train, Y_train)\n",
        "best_parameters = gd_sr.best_params_\n",
        "print(best_parameters)\n",
        "best_result = gd_sr.best_score_ \n",
        "print(best_result)"
      ],
      "execution_count": 18,
      "outputs": [
        {
          "output_type": "stream",
          "text": [
            "{'n_estimators': 450}\n",
            "0.9072774958638107\n"
          ],
          "name": "stdout"
        }
      ]
    },
    {
      "cell_type": "code",
      "metadata": {
        "colab": {
          "base_uri": "https://localhost:8080/",
          "height": 911
        },
        "id": "q3VXY0eagTtn",
        "outputId": "f801029c-ef30-43f0-80db-c6c529507210"
      },
      "source": [
        "# Building random forest using the tuned parameter\n",
        "rfc = RandomForestClassifier(n_estimators=350, criterion='entropy', max_features='auto', random_state=1)\n",
        "rfc.fit(X_train,Y_train)\n",
        "featimp = pd.Series(rfc.feature_importances_, index=list(X)).sort_values(ascending=False)\n",
        "print(featimp)\n",
        "# Predicitng on Test Data\n",
        "Y_pred = rfc.predict(X_test)\n",
        "print('Classification report: \\n', metrics.classification_report(Y_test, Y_pred))\n",
        "conf_mat = metrics.confusion_matrix(Y_test, Y_pred)\n",
        "plt.figure(figsize=(8,6))\n",
        "sns.heatmap(conf_mat,annot=True)\n",
        "plt.title(\"Confusion_matrix\")\n",
        "plt.xlabel(\"Predicted Class\")\n",
        "plt.ylabel(\"Actual class\")\n",
        "plt.show()\n",
        "print('Confusion matrix: \\n', conf_mat)\n",
        "print('TP: ', conf_mat[1,1])\n",
        "print('TN: ', conf_mat[0,0])\n",
        "print('FP: ', conf_mat[0,1])\n",
        "print('FN: ', conf_mat[1,0])"
      ],
      "execution_count": 19,
      "outputs": [
        {
          "output_type": "stream",
          "text": [
            "PageValue                  0.419886\n",
            "ProductRelated_Duration    0.129607\n",
            "Month                      0.115694\n",
            "BounceRate                 0.093791\n",
            "Administrative             0.083926\n",
            "Administrative_Duration    0.073725\n",
            "Informational_Duration     0.025348\n",
            "Informational              0.024240\n",
            "VisitorType                0.014071\n",
            "Weekend                    0.011993\n",
            "SpecialDay                 0.007716\n",
            "dtype: float64\n",
            "Classification report: \n",
            "               precision    recall  f1-score   support\n",
            "\n",
            "           0       0.95      0.90      0.92      3105\n",
            "           1       0.57      0.72      0.64       569\n",
            "\n",
            "    accuracy                           0.87      3674\n",
            "   macro avg       0.76      0.81      0.78      3674\n",
            "weighted avg       0.89      0.87      0.88      3674\n",
            "\n"
          ],
          "name": "stdout"
        },
        {
          "output_type": "display_data",
          "data": {
            "image/png": "[encoded data removed]",
            "text/plain": [
              "<Figure size 576x432 with 2 Axes>"
            ]
          },
          "metadata": {
            "tags": [],
            "needs_background": "light"
          }
        },
        {
          "output_type": "stream",
          "text": [
            "Confusion matrix: \n",
            " [[2798  307]\n",
            " [ 160  409]]\n",
            "TP:  409\n",
            "TN:  2798\n",
            "FP:  307\n",
            "FN:  160\n"
          ],
          "name": "stdout"
        }
      ]
    },
    {
      "cell_type": "code",
      "metadata": {
        "colab": {
          "base_uri": "https://localhost:8080/",
          "height": 771
        },
        "id": "97d3HX25gYCf",
        "outputId": "2ba7d481-b6c0-4275-fcdb-2756946a1024"
      },
      "source": [
        "# Selecting features with higher sifnificance and building random forest\n",
        "X1 = dataset[['PageValue','ProductRelated_Duration','Month','BounceRate','Administrative','Administrative_Duration']]\n",
        "feature_scaler = StandardScaler()\n",
        "X1_scaled = feature_scaler.fit_transform(X1)\n",
        "X1_train, X1_test, Y1_train, Y1_test = train_test_split( X1_scaled, Y, test_size = 0.3, random_state = 100)\n",
        "smote = SMOTE(random_state = 101)\n",
        "X1_train,Y1_train = smote.fit_sample(X1_train,Y1_train)\n",
        "rfc = RandomForestClassifier(n_estimators=350, criterion='entropy', max_features='auto', random_state=1)\n",
        "rfc.fit(X1_train,Y1_train)\n",
        "Y_pred = rfc.predict(X1_test)\n",
        "print('Classification report: \\n', metrics.classification_report(Y1_test, Y_pred))\n",
        "conf_mat = metrics.confusion_matrix(Y1_test, Y_pred)\n",
        "plt.figure(figsize=(8,6))\n",
        "sns.heatmap(conf_mat,annot=True)\n",
        "plt.title(\"Confusion_matrix\")\n",
        "plt.xlabel(\"Predicted Class\")\n",
        "plt.ylabel(\"Actual class\")\n",
        "plt.show()\n",
        "print('Confusion matrix: \\n', conf_mat)\n",
        "print('TP: ', conf_mat[1,1])\n",
        "print('TN: ', conf_mat[0,0])\n",
        "print('FP: ', conf_mat[0,1])\n",
        "print('FN: ', conf_mat[1,0])"
      ],
      "execution_count": 21,
      "outputs": [
        {
          "output_type": "stream",
          "text": [
            "/usr/local/lib/python3.7/dist-packages/sklearn/utils/deprecation.py:87: FutureWarning:\n",
            "\n",
            "Function safe_indexing is deprecated; safe_indexing is deprecated in version 0.22 and will be removed in version 0.24.\n",
            "\n"
          ],
          "name": "stderr"
        },
        {
          "output_type": "stream",
          "text": [
            "Classification report: \n",
            "               precision    recall  f1-score   support\n",
            "\n",
            "           0       0.95      0.90      0.92      3105\n",
            "           1       0.56      0.72      0.63       569\n",
            "\n",
            "    accuracy                           0.87      3674\n",
            "   macro avg       0.75      0.81      0.77      3674\n",
            "weighted avg       0.89      0.87      0.87      3674\n",
            "\n"
          ],
          "name": "stdout"
        },
        {
          "output_type": "display_data",
          "data": {
            "image/png": "[encoded data removed]",
            "text/plain": [
              "<Figure size 576x432 with 2 Axes>"
            ]
          },
          "metadata": {
            "tags": [],
            "needs_background": "light"
          }
        },
        {
          "output_type": "stream",
          "text": [
            "Confusion matrix: \n",
            " [[2780  325]\n",
            " [ 161  408]]\n",
            "TP:  408\n",
            "TN:  2780\n",
            "FP:  325\n",
            "FN:  161\n"
          ],
          "name": "stdout"
        }
      ]
    },
    {
      "cell_type": "markdown",
      "metadata": {
        "id": "hkV0Z-UPiT3d"
      },
      "source": [
        "**Result** : We used random forest method on the dataset, using \n",
        "grid search we got that total number of trees to be grown are \n",
        "350 and feature importance’s list. \n",
        "When used all the variable we get False positive as 325.But we \n",
        "know that using all variables results in overfitting model and \n",
        "wrong result. To avoid this problem, we use difference \n",
        "combination of features importance to find better result. When \n",
        "we used first 8 features, we our result is slightly above the old \n",
        "result. Even if the FP number is increasing little bit our model \n",
        "is not overfitting."
      ]
    },
    {
      "cell_type": "markdown",
      "metadata": {
        "id": "-OOhbBfWjI77"
      },
      "source": [
        "#### **Adaptive boost** :"
      ]
    },
    {
      "cell_type": "code",
      "metadata": {
        "colab": {
          "base_uri": "https://localhost:8080/",
          "height": 911
        },
        "id": "F_reIfy-gjU3",
        "outputId": "850d4cfb-f72a-41b3-9d4a-8fccfd457145"
      },
      "source": [
        "\n",
        "# Tuning the AdaBoost parameter 'n_estimators' and implementing cross-validation using Grid Search\n",
        "abc = AdaBoostClassifier(random_state=1)\n",
        "grid_param = {'n_estimators': [200,400,550,450]}\n",
        "gd_sr = GridSearchCV(estimator=abc, param_grid=grid_param, scoring='precision', cv=5)\n",
        "gd_sr.fit(X_train, Y_train)\n",
        "best_parameters = gd_sr.best_params_\n",
        "#print(best_parameters)\n",
        "#best_result = gd_sr.best_score_ \n",
        "#print(best_result)\n",
        "\n",
        "# Building AdaBoost using the tuned parameter\n",
        "abc = AdaBoostClassifier(n_estimators=550, random_state=1)\n",
        "abc.fit(X_train,Y_train)\n",
        "featimp = pd.Series(abc.feature_importances_, index=list(X)).sort_values(ascending=False)\n",
        "print(featimp)\n",
        "# Applying adaboost on test data\n",
        "Y_pred = abc.predict(X_test)\n",
        "print('Classification report: \\n', metrics.classification_report(Y_test, Y_pred))\n",
        "conf_mat = metrics.confusion_matrix(Y_test, Y_pred)\n",
        "plt.figure(figsize=(8,6))\n",
        "sns.heatmap(conf_mat,annot=True)\n",
        "plt.title(\"Confusion_matrix\")\n",
        "plt.xlabel(\"Predicted Class\")\n",
        "plt.ylabel(\"Actual class\")\n",
        "plt.show()\n",
        "print('Confusion matrix: \\n', conf_mat)\n",
        "print('TP: ', conf_mat[1,1])\n",
        "print('TN: ', conf_mat[0,0])\n",
        "print('FP: ', conf_mat[0,1])\n",
        "print('FN: ', conf_mat[1,0])"
      ],
      "execution_count": 23,
      "outputs": [
        {
          "output_type": "stream",
          "text": [
            "Administrative             0.487273\n",
            "Month                      0.196364\n",
            "Informational              0.127273\n",
            "PageValue                  0.049091\n",
            "BounceRate                 0.047273\n",
            "ProductRelated_Duration    0.043636\n",
            "Administrative_Duration    0.025455\n",
            "Informational_Duration     0.010909\n",
            "SpecialDay                 0.007273\n",
            "VisitorType                0.003636\n",
            "Weekend                    0.001818\n",
            "dtype: float64\n",
            "Classification report: \n",
            "               precision    recall  f1-score   support\n",
            "\n",
            "           0       0.94      0.91      0.93      3105\n",
            "           1       0.59      0.69      0.63       569\n",
            "\n",
            "    accuracy                           0.88      3674\n",
            "   macro avg       0.76      0.80      0.78      3674\n",
            "weighted avg       0.89      0.88      0.88      3674\n",
            "\n"
          ],
          "name": "stdout"
        },
        {
          "output_type": "display_data",
          "data": {
            "image/png": "[encoded data removed]",
            "text/plain": [
              "<Figure size 576x432 with 2 Axes>"
            ]
          },
          "metadata": {
            "tags": [],
            "needs_background": "light"
          }
        },
        {
          "output_type": "stream",
          "text": [
            "Confusion matrix: \n",
            " [[2833  272]\n",
            " [ 179  390]]\n",
            "TP:  390\n",
            "TN:  2833\n",
            "FP:  272\n",
            "FN:  179\n"
          ],
          "name": "stdout"
        }
      ]
    },
    {
      "cell_type": "markdown",
      "metadata": {
        "id": "jEzHxAatja0O"
      },
      "source": [
        "**Result**: In adaptive boosting technique, we grow our decision tree simultaneously along with \n",
        "strengthening the weak classifier. It corrects the weight of wrongly classified data and learn \n",
        "from it. When we ran grid search for AdaBoost model we get n-estimetre as 550. \n",
        "After completion of training and testing model we got very improved result. Our AdaBoost \n",
        "model were giving less false positives than random forest. Performance was improved by \n",
        "almost 12%. When we see the feature importances we see Administrative and Month playes \n",
        "more significant rold in correctoredicton.AdaBoost predicts 87% correct result."
      ]
    },
    {
      "cell_type": "markdown",
      "metadata": {
        "id": "kuK4jOx-juwr"
      },
      "source": [
        "#### **Gradient Boosting** :"
      ]
    },
    {
      "cell_type": "code",
      "metadata": {
        "colab": {
          "base_uri": "https://localhost:8080/",
          "height": 911
        },
        "id": "BkGkWmTlgqim",
        "outputId": "bc6dc428-94c9-461a-a92b-e5c5073d7bc0"
      },
      "source": [
        "# Tuning the Gradent Boost parameter 'n_estimators', 'Max_depth' and ' Leaf_Node; and implementing cross-validation using Grid Search\n",
        "#gbc = GradientBoostingClassifier(random_state=1)\n",
        "#grid_param = {'n_estimators': [100,150,200,250,300], 'max_depth' : [4,5,6,8,9,10,11,12], 'max_leaf_nodes': [8,12,16,20,24,28,32]}\n",
        "#gd_sr = GridSearchCV(estimator=gbc, param_grid=grid_param, scoring='precision', cv=5)\n",
        "#gd_sr.fit(X_train, Y_train)\n",
        "#best_parameters = gd_sr.best_params_\n",
        "#print(best_parameters)\n",
        "#best_result = gd_sr.best_score_ \n",
        "#print(best_result)\n",
        "\n",
        "# Building Gradient Boost using the tuned parameter\n",
        "gbc = GradientBoostingClassifier(n_estimators=200, max_depth=10, max_leaf_nodes=32, random_state=1)\n",
        "gbc.fit(X_train,Y_train)\n",
        "featimp = pd.Series(gbc.feature_importances_, index=list(X)).sort_values(ascending=False)\n",
        "print(featimp)\n",
        "#applying gradent boost on test data\n",
        "Y_pred = gbc.predict(X_test)\n",
        "print('Classification report: \\n', metrics.classification_report(Y_test, Y_pred))\n",
        "conf_mat = metrics.confusion_matrix(Y_test, Y_pred)\n",
        "plt.figure(figsize=(8,6))\n",
        "sns.heatmap(conf_mat,annot=True)\n",
        "plt.title(\"Confusion_matrix\")\n",
        "plt.xlabel(\"Predicted Class\")\n",
        "plt.ylabel(\"Actual class\")\n",
        "plt.show()\n",
        "print('Confusion matrix: \\n', conf_mat)\n",
        "print('TP: ', conf_mat[1,1])\n",
        "print('TN: ', conf_mat[0,0])\n",
        "print('FP: ', conf_mat[0,1])\n",
        "print('FN: ', conf_mat[1,0])"
      ],
      "execution_count": 25,
      "outputs": [
        {
          "output_type": "stream",
          "text": [
            "PageValue                  0.659790\n",
            "Month                      0.127201\n",
            "Administrative             0.056753\n",
            "ProductRelated_Duration    0.049246\n",
            "BounceRate                 0.040187\n",
            "Administrative_Duration    0.030965\n",
            "Informational              0.011774\n",
            "Informational_Duration     0.011053\n",
            "VisitorType                0.006451\n",
            "SpecialDay                 0.004181\n",
            "Weekend                    0.002400\n",
            "dtype: float64\n",
            "Classification report: \n",
            "               precision    recall  f1-score   support\n",
            "\n",
            "           0       0.94      0.92      0.93      3105\n",
            "           1       0.60      0.67      0.63       569\n",
            "\n",
            "    accuracy                           0.88      3674\n",
            "   macro avg       0.77      0.79      0.78      3674\n",
            "weighted avg       0.89      0.88      0.88      3674\n",
            "\n"
          ],
          "name": "stdout"
        },
        {
          "output_type": "display_data",
          "data": {
            "image/png": "[encoded data removed]",
            "text/plain": [
              "<Figure size 576x432 with 2 Axes>"
            ]
          },
          "metadata": {
            "tags": [],
            "needs_background": "light"
          }
        },
        {
          "output_type": "stream",
          "text": [
            "Confusion matrix: \n",
            " [[2853  252]\n",
            " [ 190  379]]\n",
            "TP:  379\n",
            "TN:  2853\n",
            "FP:  252\n",
            "FN:  190\n"
          ],
          "name": "stdout"
        }
      ]
    },
    {
      "cell_type": "markdown",
      "metadata": {
        "id": "4z9XmVuMj1gW"
      },
      "source": [
        "**Result**: Gradient Boosting techniques is like Adaboost techniques, where trees are grown while \n",
        "learning from mistakes. The major difference between Adaptive Boost and Gradient boost \n",
        "is how algorithms identifies shortcoming in weak learner. After running Grid search using \n",
        "gradient boosting classifier the algorithm tells us that 200 optimum number of trees to be \n",
        "grown with the depth of 10 and each having 32 leaf nodes. This information tells us how \n",
        "big our trees are going to grow. The results were much better this time and we can say that \n",
        "our model is learning from it’s mistakes.\n",
        "As our model learnd from eveyr mistake it does, Gradient boos methode allows us to \n",
        "minimise the false positive significantly . Even though it slightly increases false negative, \n",
        "these are still going to be our customer and we don’t have to worry about them.It improves \n",
        "our model by 18.9% with respect to random forest. we can observe number of page person \n",
        "go through increases the prediction rate"
      ]
    },
    {
      "cell_type": "markdown",
      "metadata": {
        "id": "pydQTZWqkL7F"
      },
      "source": [
        "## Conclusion\n",
        "\n",
        "We recommend website to use Gradient boost model to predict if the person will make \n",
        "transaction or not. As this model gives least amount of false positive with 87.9% of corrcte \n",
        "prediction.which will allow website to improve the experience of more people and convert \n",
        "them. If our model predict that’s a person will not convert our webiste can pull that \n",
        "customer to the most effective pages using better ads, attractive recommendation and \n",
        "offers. The great way to pull negative predicted customer is by giving little bit discount. I \n",
        "belive if a customer is predicted as Non converting giving him little discount might \n",
        "increase chances of transaction.Website can run a marketing campaing on special days,as \n",
        "most of the people buys goods on such days. Website can also make more engading and \n",
        "attractive pages, as more pages a person visit the better model prediction and easier it is \n",
        "for website to show relevant ads and product. Also by minimising the bounce rate by right \n",
        "landing page optimisation will help webiste to increase the sales.I belive these are some \n",
        "baisc recommendation will help in improvning the transactions"
      ]
    }
  ]
}