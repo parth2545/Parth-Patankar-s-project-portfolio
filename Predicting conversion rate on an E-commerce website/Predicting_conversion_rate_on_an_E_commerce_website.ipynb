{
  "nbformat": 4,
  "nbformat_minor": 0,
  "metadata": {
    "colab": {
      "name": "Predicting conversion rate on an E-commerce website.ipynb",
      "provenance": []
    },
    "kernelspec": {
      "name": "python3",
      "display_name": "Python 3"
    },
    "language_info": {
      "name": "python"
    }
  },
  "cells": [
    {
      "cell_type": "markdown",
      "metadata": {
        "id": "u0ysivZ9dR3G"
      },
      "source": [
        "# Predicting conversion rate on an E-commerce website"
      ]
    },
    {
      "cell_type": "markdown",
      "metadata": {
        "id": "IddNOEJ2g6Gi"
      },
      "source": [
        "Decision Tree are great way to predict the data. It has many benefits in classification \n",
        "and regression analysis. But it also has some lows as overfitting, unbalancing etc. To \n",
        "overcomes this lows following ensembles techniques are used :\n",
        "\n",
        "1. Random forest \n",
        "2. Adaptive booster \n",
        "3. Gradient boosting \n",
        "4. XGBoost \n",
        "5. Bagging."
      ]
    },
    {
      "cell_type": "code",
      "metadata": {
        "id": "ndWFZ-qNdq9V"
      },
      "source": [
        "import numpy as np\n",
        "import pandas as pd\n",
        "import matplotlib.pyplot as plt\n",
        "import seaborn as sns\n",
        "from sklearn.model_selection import train_test_split\n",
        "from sklearn.preprocessing import StandardScaler\n",
        "from sklearn import tree\n",
        "from sklearn.model_selection import GridSearchCV\n",
        "from sklearn import metrics\n",
        "from imblearn.over_sampling import SMOTE \n",
        "from sklearn.ensemble import RandomForestClassifier, AdaBoostClassifier, GradientBoostingClassifier\n",
        "import plotly .offline as offline\n",
        "import plotly.figure_factory as ff\n"
      ],
      "execution_count": 10,
      "outputs": []
    },
    {
      "cell_type": "markdown",
      "metadata": {
        "id": "pipQv6jyhTJq"
      },
      "source": [
        "## Data Processing \n",
        "\n",
        "We used some of the techniques on our E-shop data to find out perfect fitting model. After \n",
        "converting categorical data into number, we ran correlation map to find out highly correlated \n",
        "elements. It shows that *Exit Rate* and* Product Related* column has high correlation with bounce \n",
        "rate and Product Related Duration column,respectively. Therefore, we dropped it"
      ]
    },
    {
      "cell_type": "code",
      "metadata": {
        "colab": {
          "base_uri": "https://localhost:8080/"
        },
        "id": "637NErhUdud6",
        "outputId": "e0fe1dab-b4bc-4cca-ac09-5d63d05e0952"
      },
      "source": [
        "####Cleaning data\n",
        "# Importing dataset and examining it\n",
        "dataset = pd.read_csv(\"E-Shop.csv\")\n",
        "print(dataset.head())\n",
        "print(dataset.shape)\n",
        "print(dataset.info())\n",
        "print(dataset.describe())\n",
        "# Converting catagorical into numerical\n",
        "dataset['Month'] = dataset['Month'].map({'Jan':0, 'Feb':1, 'Mar':2, 'Apr':3, 'May':4, 'June':5, 'Jul':6, 'Aug':7, 'Sep':8, 'Oct':9, 'Nov':10,'Dec':11,})\n",
        "dataset['VisitorType'] = dataset['VisitorType'].map({'Returning_Visitor':1, 'New_Visitor':0})\n",
        "dataset['Weekend'] = dataset['Weekend'].map({True :1, False:0})\n",
        "dataset['Transaction'] = dataset['Transaction'].map({True:1, False:0})\n"
      ],
      "execution_count": 11,
      "outputs": [
        {
          "output_type": "stream",
          "text": [
            "   Administrative  Administrative_Duration  ...  Weekend  Transaction\n",
            "0               0                      0.0  ...    False        False\n",
            "1               0                      0.0  ...    False        False\n",
            "2               0                      0.0  ...    False        False\n",
            "3               0                      0.0  ...    False        False\n",
            "4               0                      0.0  ...     True        False\n",
            "\n",
            "[5 rows x 14 columns]\n",
            "(12245, 14)\n",
            "<class 'pandas.core.frame.DataFrame'>\n",
            "RangeIndex: 12245 entries, 0 to 12244\n",
            "Data columns (total 14 columns):\n",
            " #   Column                   Non-Null Count  Dtype  \n",
            "---  ------                   --------------  -----  \n",
            " 0   Administrative           12245 non-null  int64  \n",
            " 1   Administrative_Duration  12245 non-null  float64\n",
            " 2   Informational            12245 non-null  int64  \n",
            " 3   Informational_Duration   12245 non-null  float64\n",
            " 4   ProductRelated           12245 non-null  int64  \n",
            " 5   ProductRelated_Duration  12245 non-null  float64\n",
            " 6   BounceRate               12245 non-null  float64\n",
            " 7   ExitRate                 12245 non-null  float64\n",
            " 8   PageValue                12245 non-null  float64\n",
            " 9   SpecialDay               12245 non-null  float64\n",
            " 10  Month                    12245 non-null  object \n",
            " 11  VisitorType              12245 non-null  object \n",
            " 12  Weekend                  12245 non-null  bool   \n",
            " 13  Transaction              12245 non-null  bool   \n",
            "dtypes: bool(2), float64(7), int64(3), object(2)\n",
            "memory usage: 1.1+ MB\n",
            "None\n",
            "       Administrative  Administrative_Duration  ...     PageValue    SpecialDay\n",
            "count    12245.000000             12245.000000  ...  12245.000000  12245.000000\n",
            "mean         2.321029                80.944413  ...      5.803858      0.061854\n",
            "std          3.326056               176.579347  ...     18.075511      0.199540\n",
            "min          0.000000                 0.000000  ...      0.000000      0.000000\n",
            "25%          0.000000                 0.000000  ...      0.000000      0.000000\n",
            "50%          1.000000                 8.000000  ...      0.000000      0.000000\n",
            "75%          4.000000                93.600000  ...      0.000000      0.000000\n",
            "max         27.000000              3398.750000  ...    361.763742      1.000000\n",
            "\n",
            "[8 rows x 10 columns]\n"
          ],
          "name": "stdout"
        }
      ]
    },
    {
      "cell_type": "code",
      "metadata": {
        "colab": {
          "base_uri": "https://localhost:8080/",
          "height": 542
        },
        "id": "YerDmx1_eJIL",
        "outputId": "adc1bc73-22bc-476f-edd7-5754a10f45b2"
      },
      "source": [
        "# Plotting Correlation Heatmap\n",
        "corrs = dataset.corr()\n",
        "figure = ff.create_annotated_heatmap(\n",
        "    z=corrs.values,\n",
        "    x=list(corrs.columns),\n",
        "    y=list(corrs.index),\n",
        "    annotation_text=corrs.round(2).values,\n",
        "    showscale=True)\n",
        "figure\n"
      ],
      "execution_count": 12,
      "outputs": [
        {
          "output_type": "display_data",
          "data": {
            "text/html": [
              "<html>\n",
              "<head><meta charset=\"utf-8\" /></head>\n",
              "<body>\n",
              "    <div>\n",
              "            <script src=\"https://cdnjs.cloudflare.com/ajax/libs/mathjax/2.7.5/MathJax.js?config=TeX-AMS-MML_SVG\"></script><script type=\"text/javascript\">if (window.MathJax) {MathJax.Hub.Config({SVG: {font: \"STIX-Web\"}});}</script>\n",
              "                <script type=\"text/javascript\">window.PlotlyConfig = {MathJaxConfig: 'local'};</script>\n",
              "        <script src=\"https://cdn.plot.ly/plotly-latest.min.js\"></script>    \n",
              "            <div id=\"8e440be5-b56f-44d4-9309-3daa5ac5ed35\" class=\"plotly-graph-div\" style=\"height:525px; width:100%;\"></div>\n",
              "            <script type=\"text/javascript\">\n",
              "                \n",
              "                    window.PLOTLYENV=window.PLOTLYENV || {};\n",
              "                    \n",
              "                if (document.getElementById(\"8e440be5-b56f-44d4-9309-3daa5ac5ed35\")) {\n",
              "                    Plotly.newPlot(\n",
              "                        '8e440be5-b56f-44d4-9309-3daa5ac5ed35',\n",
              "                        [{\"colorscale\": [[0.0, \"#0d0887\"], [0.1111111111111111, \"#46039f\"], [0.2222222222222222, \"#7201a8\"], [0.3333333333333333, \"#9c179e\"], [0.4444444444444444, \"#bd3786\"], [0.5555555555555556, \"#d8576b\"], [0.6666666666666666, \"#ed7953\"], [0.7777777777777778, \"#fb9f3a\"], [0.8888888888888888, \"#fdca26\"], [1.0, \"#f0f921\"]], \"reversescale\": false, \"showscale\": true, \"type\": \"heatmap\", \"x\": [\"Administrative\", \"Administrative_Duration\", \"Informational\", \"Informational_Duration\", \"ProductRelated\", \"ProductRelated_Duration\", \"BounceRate\", \"ExitRate\", \"PageValue\", \"SpecialDay\", \"Month\", \"VisitorType\", \"Weekend\", \"Transaction\"], \"y\": [\"Administrative\", \"Administrative_Duration\", \"Informational\", \"Informational_Duration\", \"ProductRelated\", \"ProductRelated_Duration\", \"BounceRate\", \"ExitRate\", \"PageValue\", \"SpecialDay\", \"Month\", \"VisitorType\", \"Weekend\", \"Transaction\"], \"z\": [[1.0, 0.6027602490733482, 0.3775322296779579, 0.2560529565514517, 0.4318807190527616, 0.3747760048354654, -0.22311165163312752, -0.3157911178067819, 0.10344781210718952, -0.09556176529358312, 0.09935347833380279, -0.027820049868511137, 0.026027512383726303, 0.13890110700508812], [0.6027602490733482, 1.0, 0.30398178019162014, 0.23839914150350103, 0.2904645701930381, 0.3572599337840068, -0.14398909812067534, -0.2053790109127216, 0.07130283552298892, -0.07388619359365493, 0.05918868991717127, -0.024886948484570345, 0.01518155786286454, 0.09353656687605626], [0.3775322296779579, 0.30398178019162014, 1.0, 0.6189613487269322, 0.3733445711655211, 0.3869300225936883, -0.11626079677324125, -0.1638007482024806, 0.05232307766110502, -0.0488483244396079, 0.06645069050196256, 0.05423970669975072, 0.03529545885101313, 0.09566568320939384], [0.2560529565514517, 0.23839914150350103, 0.6189613487269322, 1.0, 0.2797153479578361, 0.3473282083634786, -0.07412060551065061, -0.10527921624760685, 0.03317864514824766, -0.030955723013638307, 0.04619803291147647, 0.043703081770341386, 0.0234395206632903, 0.07041220358247126], [0.4318807190527616, 0.2904645701930381, 0.3733445711655211, 0.2797153479578361, 1.0, 0.8606968375122788, -0.2049023409962316, -0.2926705052378428, 0.05785542618337298, -0.02494038996978765, 0.16134324898714203, 0.12422264341149888, 0.015231889882494385, 0.15878016626816283], [0.3747760048354654, 0.3572599337840068, 0.3869300225936883, 0.3473282083634786, 0.8606968375122788, 1.0, -0.18467594994061903, -0.2518317965086477, 0.054523027702569976, -0.03716058425090868, 0.1418409258293871, 0.11763397369691983, 0.0066842830603120774, 0.15219256455116126], [-0.22311165163312752, -0.14398909812067534, -0.11626079677324125, -0.07412060551065061, -0.2049023409962316, -0.18467594994061903, 1.0, 0.9127197330819425, -0.12057022240722239, 0.07414339060016144, -0.07002186284878287, 0.13980063855995858, -0.0467212346496259, -0.15011406046105144], [-0.3157911178067819, -0.2053790109127216, -0.1638007482024806, -0.10527921624760685, -0.2926705052378428, -0.2518317965086477, 0.9127197330819425, 1.0, -0.1756430886511819, 0.10399511113977013, -0.09991587362127362, 0.1843052110711589, -0.062456092267701865, -0.20609046315364074], [0.10344781210718952, 0.07130283552298892, 0.05232307766110502, 0.03317864514824766, 0.05785542618337298, 0.054523027702569976, -0.12057022240722239, -0.1756430886511819, 1.0, -0.064057281418451, 0.06348211313613823, -0.11014059237498187, 0.01510906564972535, 0.49495923380525325], [-0.09556176529358312, -0.07388619359365493, -0.0488483244396079, -0.030955723013638307, -0.02494038996978765, -0.03716058425090868, 0.07414339060016144, 0.10399511113977013, -0.064057281418451, 1.0, -0.2557384875992103, 0.08366950059507126, -0.01756871155062455, -0.08246849105926464], [0.09935347833380279, 0.05918868991717127, 0.06645069050196256, 0.04619803291147647, 0.16134324898714203, 0.1418409258293871, -0.07002186284878287, -0.09991587362127362, 0.06348211313613823, -0.2557384875992103, 1.0, -0.09446677581618779, 0.020196883986601855, 0.12762140633475852], [-0.027820049868511137, -0.024886948484570345, 0.05423970669975072, 0.043703081770341386, 0.12422264341149888, 0.11763397369691983, 0.13980063855995858, 0.1843052110711589, -0.11014059237498187, 0.08366950059507126, -0.09446677581618779, 1.0, -0.04650947584631735, -0.10487633728773565], [0.026027512383726303, 0.01518155786286454, 0.03529545885101313, 0.0234395206632903, 0.015231889882494385, 0.0066842830603120774, -0.0467212346496259, -0.062456092267701865, 0.01510906564972535, -0.01756871155062455, 0.020196883986601855, -0.04650947584631735, 1.0, 0.029870514422753958], [0.13890110700508812, 0.09353656687605626, 0.09566568320939384, 0.07041220358247126, 0.15878016626816283, 0.15219256455116126, -0.15011406046105144, -0.20609046315364074, 0.49495923380525325, -0.08246849105926464, 0.12762140633475852, -0.10487633728773565, 0.029870514422753958, 1.0]]}],\n",
              "                        {\"annotations\": [{\"font\": {\"color\": \"#000000\"}, \"showarrow\": false, \"text\": \"1.0\", \"x\": \"Administrative\", \"xref\": \"x\", \"y\": \"Administrative\", \"yref\": \"y\"}, {\"font\": {\"color\": \"#000000\"}, \"showarrow\": false, \"text\": \"0.6\", \"x\": \"Administrative_Duration\", \"xref\": \"x\", \"y\": \"Administrative\", \"yref\": \"y\"}, {\"font\": {\"color\": \"#000000\"}, \"showarrow\": false, \"text\": \"0.38\", \"x\": \"Informational\", \"xref\": \"x\", \"y\": \"Administrative\", \"yref\": \"y\"}, {\"font\": {\"color\": \"#FFFFFF\"}, \"showarrow\": false, \"text\": \"0.26\", \"x\": \"Informational_Duration\", \"xref\": \"x\", \"y\": \"Administrative\", \"yref\": \"y\"}, {\"font\": {\"color\": \"#000000\"}, \"showarrow\": false, \"text\": \"0.43\", \"x\": \"ProductRelated\", \"xref\": \"x\", \"y\": \"Administrative\", \"yref\": \"y\"}, {\"font\": {\"color\": \"#000000\"}, \"showarrow\": false, \"text\": \"0.37\", \"x\": \"ProductRelated_Duration\", \"xref\": \"x\", \"y\": \"Administrative\", \"yref\": \"y\"}, {\"font\": {\"color\": \"#FFFFFF\"}, \"showarrow\": false, \"text\": \"-0.22\", \"x\": \"BounceRate\", \"xref\": \"x\", \"y\": \"Administrative\", \"yref\": \"y\"}, {\"font\": {\"color\": \"#FFFFFF\"}, \"showarrow\": false, \"text\": \"-0.32\", \"x\": \"ExitRate\", \"xref\": \"x\", \"y\": \"Administrative\", \"yref\": \"y\"}, {\"font\": {\"color\": \"#FFFFFF\"}, \"showarrow\": false, \"text\": \"0.1\", \"x\": \"PageValue\", \"xref\": \"x\", \"y\": \"Administrative\", \"yref\": \"y\"}, {\"font\": {\"color\": \"#FFFFFF\"}, \"showarrow\": false, \"text\": \"-0.1\", \"x\": \"SpecialDay\", \"xref\": \"x\", \"y\": \"Administrative\", \"yref\": \"y\"}, {\"font\": {\"color\": \"#FFFFFF\"}, \"showarrow\": false, \"text\": \"0.1\", \"x\": \"Month\", \"xref\": \"x\", \"y\": \"Administrative\", \"yref\": \"y\"}, {\"font\": {\"color\": \"#FFFFFF\"}, \"showarrow\": false, \"text\": \"-0.03\", \"x\": \"VisitorType\", \"xref\": \"x\", \"y\": \"Administrative\", \"yref\": \"y\"}, {\"font\": {\"color\": \"#FFFFFF\"}, \"showarrow\": false, \"text\": \"0.03\", \"x\": \"Weekend\", \"xref\": \"x\", \"y\": \"Administrative\", \"yref\": \"y\"}, {\"font\": {\"color\": \"#FFFFFF\"}, \"showarrow\": false, \"text\": \"0.14\", \"x\": \"Transaction\", \"xref\": \"x\", \"y\": \"Administrative\", \"yref\": \"y\"}, {\"font\": {\"color\": \"#000000\"}, \"showarrow\": false, \"text\": \"0.6\", \"x\": \"Administrative\", \"xref\": \"x\", \"y\": \"Administrative_Duration\", \"yref\": \"y\"}, {\"font\": {\"color\": \"#000000\"}, \"showarrow\": false, \"text\": \"1.0\", \"x\": \"Administrative_Duration\", \"xref\": \"x\", \"y\": \"Administrative_Duration\", \"yref\": \"y\"}, {\"font\": {\"color\": \"#FFFFFF\"}, \"showarrow\": false, \"text\": \"0.3\", \"x\": \"Informational\", \"xref\": \"x\", \"y\": \"Administrative_Duration\", \"yref\": \"y\"}, {\"font\": {\"color\": \"#FFFFFF\"}, \"showarrow\": false, \"text\": \"0.24\", \"x\": \"Informational_Duration\", \"xref\": \"x\", \"y\": \"Administrative_Duration\", \"yref\": \"y\"}, {\"font\": {\"color\": \"#FFFFFF\"}, \"showarrow\": false, \"text\": \"0.29\", \"x\": \"ProductRelated\", \"xref\": \"x\", \"y\": \"Administrative_Duration\", \"yref\": \"y\"}, {\"font\": {\"color\": \"#000000\"}, \"showarrow\": false, \"text\": \"0.36\", \"x\": \"ProductRelated_Duration\", \"xref\": \"x\", \"y\": \"Administrative_Duration\", \"yref\": \"y\"}, {\"font\": {\"color\": \"#FFFFFF\"}, \"showarrow\": false, \"text\": \"-0.14\", \"x\": \"BounceRate\", \"xref\": \"x\", \"y\": \"Administrative_Duration\", \"yref\": \"y\"}, {\"font\": {\"color\": \"#FFFFFF\"}, \"showarrow\": false, \"text\": \"-0.21\", \"x\": \"ExitRate\", \"xref\": \"x\", \"y\": \"Administrative_Duration\", \"yref\": \"y\"}, {\"font\": {\"color\": \"#FFFFFF\"}, \"showarrow\": false, \"text\": \"0.07\", \"x\": \"PageValue\", \"xref\": \"x\", \"y\": \"Administrative_Duration\", \"yref\": \"y\"}, {\"font\": {\"color\": \"#FFFFFF\"}, \"showarrow\": false, \"text\": \"-0.07\", \"x\": \"SpecialDay\", \"xref\": \"x\", \"y\": \"Administrative_Duration\", \"yref\": \"y\"}, {\"font\": {\"color\": \"#FFFFFF\"}, \"showarrow\": false, \"text\": \"0.06\", \"x\": \"Month\", \"xref\": \"x\", \"y\": \"Administrative_Duration\", \"yref\": \"y\"}, {\"font\": {\"color\": \"#FFFFFF\"}, \"showarrow\": false, \"text\": \"-0.02\", \"x\": \"VisitorType\", \"xref\": \"x\", \"y\": \"Administrative_Duration\", \"yref\": \"y\"}, {\"font\": {\"color\": \"#FFFFFF\"}, \"showarrow\": false, \"text\": \"0.02\", \"x\": \"Weekend\", \"xref\": \"x\", \"y\": \"Administrative_Duration\", \"yref\": \"y\"}, {\"font\": {\"color\": \"#FFFFFF\"}, \"showarrow\": false, \"text\": \"0.09\", \"x\": \"Transaction\", \"xref\": \"x\", \"y\": \"Administrative_Duration\", \"yref\": \"y\"}, {\"font\": {\"color\": \"#000000\"}, \"showarrow\": false, \"text\": \"0.38\", \"x\": \"Administrative\", \"xref\": \"x\", \"y\": \"Informational\", \"yref\": \"y\"}, {\"font\": {\"color\": \"#FFFFFF\"}, \"showarrow\": false, \"text\": \"0.3\", \"x\": \"Administrative_Duration\", \"xref\": \"x\", \"y\": \"Informational\", \"yref\": \"y\"}, {\"font\": {\"color\": \"#000000\"}, \"showarrow\": false, \"text\": \"1.0\", \"x\": \"Informational\", \"xref\": \"x\", \"y\": \"Informational\", \"yref\": \"y\"}, {\"font\": {\"color\": \"#000000\"}, \"showarrow\": false, \"text\": \"0.62\", \"x\": \"Informational_Duration\", \"xref\": \"x\", \"y\": \"Informational\", \"yref\": \"y\"}, {\"font\": {\"color\": \"#000000\"}, \"showarrow\": false, \"text\": \"0.37\", \"x\": \"ProductRelated\", \"xref\": \"x\", \"y\": \"Informational\", \"yref\": \"y\"}, {\"font\": {\"color\": \"#000000\"}, \"showarrow\": false, \"text\": \"0.39\", \"x\": \"ProductRelated_Duration\", \"xref\": \"x\", \"y\": \"Informational\", \"yref\": \"y\"}, {\"font\": {\"color\": \"#FFFFFF\"}, \"showarrow\": false, \"text\": \"-0.12\", \"x\": \"BounceRate\", \"xref\": \"x\", \"y\": \"Informational\", \"yref\": \"y\"}, {\"font\": {\"color\": \"#FFFFFF\"}, \"showarrow\": false, \"text\": \"-0.16\", \"x\": \"ExitRate\", \"xref\": \"x\", \"y\": \"Informational\", \"yref\": \"y\"}, {\"font\": {\"color\": \"#FFFFFF\"}, \"showarrow\": false, \"text\": \"0.05\", \"x\": \"PageValue\", \"xref\": \"x\", \"y\": \"Informational\", \"yref\": \"y\"}, {\"font\": {\"color\": \"#FFFFFF\"}, \"showarrow\": false, \"text\": \"-0.05\", \"x\": \"SpecialDay\", \"xref\": \"x\", \"y\": \"Informational\", \"yref\": \"y\"}, {\"font\": {\"color\": \"#FFFFFF\"}, \"showarrow\": false, \"text\": \"0.07\", \"x\": \"Month\", \"xref\": \"x\", \"y\": \"Informational\", \"yref\": \"y\"}, {\"font\": {\"color\": \"#FFFFFF\"}, \"showarrow\": false, \"text\": \"0.05\", \"x\": \"VisitorType\", \"xref\": \"x\", \"y\": \"Informational\", \"yref\": \"y\"}, {\"font\": {\"color\": \"#FFFFFF\"}, \"showarrow\": false, \"text\": \"0.04\", \"x\": \"Weekend\", \"xref\": \"x\", \"y\": \"Informational\", \"yref\": \"y\"}, {\"font\": {\"color\": \"#FFFFFF\"}, \"showarrow\": false, \"text\": \"0.1\", \"x\": \"Transaction\", \"xref\": \"x\", \"y\": \"Informational\", \"yref\": \"y\"}, {\"font\": {\"color\": \"#FFFFFF\"}, \"showarrow\": false, \"text\": \"0.26\", \"x\": \"Administrative\", \"xref\": \"x\", \"y\": \"Informational_Duration\", \"yref\": \"y\"}, {\"font\": {\"color\": \"#FFFFFF\"}, \"showarrow\": false, \"text\": \"0.24\", \"x\": \"Administrative_Duration\", \"xref\": \"x\", \"y\": \"Informational_Duration\", \"yref\": \"y\"}, {\"font\": {\"color\": \"#000000\"}, \"showarrow\": false, \"text\": \"0.62\", \"x\": \"Informational\", \"xref\": \"x\", \"y\": \"Informational_Duration\", \"yref\": \"y\"}, {\"font\": {\"color\": \"#000000\"}, \"showarrow\": false, \"text\": \"1.0\", \"x\": \"Informational_Duration\", \"xref\": \"x\", \"y\": \"Informational_Duration\", \"yref\": \"y\"}, {\"font\": {\"color\": \"#FFFFFF\"}, \"showarrow\": false, \"text\": \"0.28\", \"x\": \"ProductRelated\", \"xref\": \"x\", \"y\": \"Informational_Duration\", \"yref\": \"y\"}, {\"font\": {\"color\": \"#000000\"}, \"showarrow\": false, \"text\": \"0.35\", \"x\": \"ProductRelated_Duration\", \"xref\": \"x\", \"y\": \"Informational_Duration\", \"yref\": \"y\"}, {\"font\": {\"color\": \"#FFFFFF\"}, \"showarrow\": false, \"text\": \"-0.07\", \"x\": \"BounceRate\", \"xref\": \"x\", \"y\": \"Informational_Duration\", \"yref\": \"y\"}, {\"font\": {\"color\": \"#FFFFFF\"}, \"showarrow\": false, \"text\": \"-0.11\", \"x\": \"ExitRate\", \"xref\": \"x\", \"y\": \"Informational_Duration\", \"yref\": \"y\"}, {\"font\": {\"color\": \"#FFFFFF\"}, \"showarrow\": false, \"text\": \"0.03\", \"x\": \"PageValue\", \"xref\": \"x\", \"y\": \"Informational_Duration\", \"yref\": \"y\"}, {\"font\": {\"color\": \"#FFFFFF\"}, \"showarrow\": false, \"text\": \"-0.03\", \"x\": \"SpecialDay\", \"xref\": \"x\", \"y\": \"Informational_Duration\", \"yref\": \"y\"}, {\"font\": {\"color\": \"#FFFFFF\"}, \"showarrow\": false, \"text\": \"0.05\", \"x\": \"Month\", \"xref\": \"x\", \"y\": \"Informational_Duration\", \"yref\": \"y\"}, {\"font\": {\"color\": \"#FFFFFF\"}, \"showarrow\": false, \"text\": \"0.04\", \"x\": \"VisitorType\", \"xref\": \"x\", \"y\": \"Informational_Duration\", \"yref\": \"y\"}, {\"font\": {\"color\": \"#FFFFFF\"}, \"showarrow\": false, \"text\": \"0.02\", \"x\": \"Weekend\", \"xref\": \"x\", \"y\": \"Informational_Duration\", \"yref\": \"y\"}, {\"font\": {\"color\": \"#FFFFFF\"}, \"showarrow\": false, \"text\": \"0.07\", \"x\": \"Transaction\", \"xref\": \"x\", \"y\": \"Informational_Duration\", \"yref\": \"y\"}, {\"font\": {\"color\": \"#000000\"}, \"showarrow\": false, \"text\": \"0.43\", \"x\": \"Administrative\", \"xref\": \"x\", \"y\": \"ProductRelated\", \"yref\": \"y\"}, {\"font\": {\"color\": \"#FFFFFF\"}, \"showarrow\": false, \"text\": \"0.29\", \"x\": \"Administrative_Duration\", \"xref\": \"x\", \"y\": \"ProductRelated\", \"yref\": \"y\"}, {\"font\": {\"color\": \"#000000\"}, \"showarrow\": false, \"text\": \"0.37\", \"x\": \"Informational\", \"xref\": \"x\", \"y\": \"ProductRelated\", \"yref\": \"y\"}, {\"font\": {\"color\": \"#FFFFFF\"}, \"showarrow\": false, \"text\": \"0.28\", \"x\": \"Informational_Duration\", \"xref\": \"x\", \"y\": \"ProductRelated\", \"yref\": \"y\"}, {\"font\": {\"color\": \"#000000\"}, \"showarrow\": false, \"text\": \"1.0\", \"x\": \"ProductRelated\", \"xref\": \"x\", \"y\": \"ProductRelated\", \"yref\": \"y\"}, {\"font\": {\"color\": \"#000000\"}, \"showarrow\": false, \"text\": \"0.86\", \"x\": \"ProductRelated_Duration\", \"xref\": \"x\", \"y\": \"ProductRelated\", \"yref\": \"y\"}, {\"font\": {\"color\": \"#FFFFFF\"}, \"showarrow\": false, \"text\": \"-0.2\", \"x\": \"BounceRate\", \"xref\": \"x\", \"y\": \"ProductRelated\", \"yref\": \"y\"}, {\"font\": {\"color\": \"#FFFFFF\"}, \"showarrow\": false, \"text\": \"-0.29\", \"x\": \"ExitRate\", \"xref\": \"x\", \"y\": \"ProductRelated\", \"yref\": \"y\"}, {\"font\": {\"color\": \"#FFFFFF\"}, \"showarrow\": false, \"text\": \"0.06\", \"x\": \"PageValue\", \"xref\": \"x\", \"y\": \"ProductRelated\", \"yref\": \"y\"}, {\"font\": {\"color\": \"#FFFFFF\"}, \"showarrow\": false, \"text\": \"-0.02\", \"x\": \"SpecialDay\", \"xref\": \"x\", \"y\": \"ProductRelated\", \"yref\": \"y\"}, {\"font\": {\"color\": \"#FFFFFF\"}, \"showarrow\": false, \"text\": \"0.16\", \"x\": \"Month\", \"xref\": \"x\", \"y\": \"ProductRelated\", \"yref\": \"y\"}, {\"font\": {\"color\": \"#FFFFFF\"}, \"showarrow\": false, \"text\": \"0.12\", \"x\": \"VisitorType\", \"xref\": \"x\", \"y\": \"ProductRelated\", \"yref\": \"y\"}, {\"font\": {\"color\": \"#FFFFFF\"}, \"showarrow\": false, \"text\": \"0.02\", \"x\": \"Weekend\", \"xref\": \"x\", \"y\": \"ProductRelated\", \"yref\": \"y\"}, {\"font\": {\"color\": \"#FFFFFF\"}, \"showarrow\": false, \"text\": \"0.16\", \"x\": \"Transaction\", \"xref\": \"x\", \"y\": \"ProductRelated\", \"yref\": \"y\"}, {\"font\": {\"color\": \"#000000\"}, \"showarrow\": false, \"text\": \"0.37\", \"x\": \"Administrative\", \"xref\": \"x\", \"y\": \"ProductRelated_Duration\", \"yref\": \"y\"}, {\"font\": {\"color\": \"#000000\"}, \"showarrow\": false, \"text\": \"0.36\", \"x\": \"Administrative_Duration\", \"xref\": \"x\", \"y\": \"ProductRelated_Duration\", \"yref\": \"y\"}, {\"font\": {\"color\": \"#000000\"}, \"showarrow\": false, \"text\": \"0.39\", \"x\": \"Informational\", \"xref\": \"x\", \"y\": \"ProductRelated_Duration\", \"yref\": \"y\"}, {\"font\": {\"color\": \"#000000\"}, \"showarrow\": false, \"text\": \"0.35\", \"x\": \"Informational_Duration\", \"xref\": \"x\", \"y\": \"ProductRelated_Duration\", \"yref\": \"y\"}, {\"font\": {\"color\": \"#000000\"}, \"showarrow\": false, \"text\": \"0.86\", \"x\": \"ProductRelated\", \"xref\": \"x\", \"y\": \"ProductRelated_Duration\", \"yref\": \"y\"}, {\"font\": {\"color\": \"#000000\"}, \"showarrow\": false, \"text\": \"1.0\", \"x\": \"ProductRelated_Duration\", \"xref\": \"x\", \"y\": \"ProductRelated_Duration\", \"yref\": \"y\"}, {\"font\": {\"color\": \"#FFFFFF\"}, \"showarrow\": false, \"text\": \"-0.18\", \"x\": \"BounceRate\", \"xref\": \"x\", \"y\": \"ProductRelated_Duration\", \"yref\": \"y\"}, {\"font\": {\"color\": \"#FFFFFF\"}, \"showarrow\": false, \"text\": \"-0.25\", \"x\": \"ExitRate\", \"xref\": \"x\", \"y\": \"ProductRelated_Duration\", \"yref\": \"y\"}, {\"font\": {\"color\": \"#FFFFFF\"}, \"showarrow\": false, \"text\": \"0.05\", \"x\": \"PageValue\", \"xref\": \"x\", \"y\": \"ProductRelated_Duration\", \"yref\": \"y\"}, {\"font\": {\"color\": \"#FFFFFF\"}, \"showarrow\": false, \"text\": \"-0.04\", \"x\": \"SpecialDay\", \"xref\": \"x\", \"y\": \"ProductRelated_Duration\", \"yref\": \"y\"}, {\"font\": {\"color\": \"#FFFFFF\"}, \"showarrow\": false, \"text\": \"0.14\", \"x\": \"Month\", \"xref\": \"x\", \"y\": \"ProductRelated_Duration\", \"yref\": \"y\"}, {\"font\": {\"color\": \"#FFFFFF\"}, \"showarrow\": false, \"text\": \"0.12\", \"x\": \"VisitorType\", \"xref\": \"x\", \"y\": \"ProductRelated_Duration\", \"yref\": \"y\"}, {\"font\": {\"color\": \"#FFFFFF\"}, \"showarrow\": false, \"text\": \"0.01\", \"x\": \"Weekend\", \"xref\": \"x\", \"y\": \"ProductRelated_Duration\", \"yref\": \"y\"}, {\"font\": {\"color\": \"#FFFFFF\"}, \"showarrow\": false, \"text\": \"0.15\", \"x\": \"Transaction\", \"xref\": \"x\", \"y\": \"ProductRelated_Duration\", \"yref\": \"y\"}, {\"font\": {\"color\": \"#FFFFFF\"}, \"showarrow\": false, \"text\": \"-0.22\", \"x\": \"Administrative\", \"xref\": \"x\", \"y\": \"BounceRate\", \"yref\": \"y\"}, {\"font\": {\"color\": \"#FFFFFF\"}, \"showarrow\": false, \"text\": \"-0.14\", \"x\": \"Administrative_Duration\", \"xref\": \"x\", \"y\": \"BounceRate\", \"yref\": \"y\"}, {\"font\": {\"color\": \"#FFFFFF\"}, \"showarrow\": false, \"text\": \"-0.12\", \"x\": \"Informational\", \"xref\": \"x\", \"y\": \"BounceRate\", \"yref\": \"y\"}, {\"font\": {\"color\": \"#FFFFFF\"}, \"showarrow\": false, \"text\": \"-0.07\", \"x\": \"Informational_Duration\", \"xref\": \"x\", \"y\": \"BounceRate\", \"yref\": \"y\"}, {\"font\": {\"color\": \"#FFFFFF\"}, \"showarrow\": false, \"text\": \"-0.2\", \"x\": \"ProductRelated\", \"xref\": \"x\", \"y\": \"BounceRate\", \"yref\": \"y\"}, {\"font\": {\"color\": \"#FFFFFF\"}, \"showarrow\": false, \"text\": \"-0.18\", \"x\": \"ProductRelated_Duration\", \"xref\": \"x\", \"y\": \"BounceRate\", \"yref\": \"y\"}, {\"font\": {\"color\": \"#000000\"}, \"showarrow\": false, \"text\": \"1.0\", \"x\": \"BounceRate\", \"xref\": \"x\", \"y\": \"BounceRate\", \"yref\": \"y\"}, {\"font\": {\"color\": \"#000000\"}, \"showarrow\": false, \"text\": \"0.91\", \"x\": \"ExitRate\", \"xref\": \"x\", \"y\": \"BounceRate\", \"yref\": \"y\"}, {\"font\": {\"color\": \"#FFFFFF\"}, \"showarrow\": false, \"text\": \"-0.12\", \"x\": \"PageValue\", \"xref\": \"x\", \"y\": \"BounceRate\", \"yref\": \"y\"}, {\"font\": {\"color\": \"#FFFFFF\"}, \"showarrow\": false, \"text\": \"0.07\", \"x\": \"SpecialDay\", \"xref\": \"x\", \"y\": \"BounceRate\", \"yref\": \"y\"}, {\"font\": {\"color\": \"#FFFFFF\"}, \"showarrow\": false, \"text\": \"-0.07\", \"x\": \"Month\", \"xref\": \"x\", \"y\": \"BounceRate\", \"yref\": \"y\"}, {\"font\": {\"color\": \"#FFFFFF\"}, \"showarrow\": false, \"text\": \"0.14\", \"x\": \"VisitorType\", \"xref\": \"x\", \"y\": \"BounceRate\", \"yref\": \"y\"}, {\"font\": {\"color\": \"#FFFFFF\"}, \"showarrow\": false, \"text\": \"-0.05\", \"x\": \"Weekend\", \"xref\": \"x\", \"y\": \"BounceRate\", \"yref\": \"y\"}, {\"font\": {\"color\": \"#FFFFFF\"}, \"showarrow\": false, \"text\": \"-0.15\", \"x\": \"Transaction\", \"xref\": \"x\", \"y\": \"BounceRate\", \"yref\": \"y\"}, {\"font\": {\"color\": \"#FFFFFF\"}, \"showarrow\": false, \"text\": \"-0.32\", \"x\": \"Administrative\", \"xref\": \"x\", \"y\": \"ExitRate\", \"yref\": \"y\"}, {\"font\": {\"color\": \"#FFFFFF\"}, \"showarrow\": false, \"text\": \"-0.21\", \"x\": \"Administrative_Duration\", \"xref\": \"x\", \"y\": \"ExitRate\", \"yref\": \"y\"}, {\"font\": {\"color\": \"#FFFFFF\"}, \"showarrow\": false, \"text\": \"-0.16\", \"x\": \"Informational\", \"xref\": \"x\", \"y\": \"ExitRate\", \"yref\": \"y\"}, {\"font\": {\"color\": \"#FFFFFF\"}, \"showarrow\": false, \"text\": \"-0.11\", \"x\": \"Informational_Duration\", \"xref\": \"x\", \"y\": \"ExitRate\", \"yref\": \"y\"}, {\"font\": {\"color\": \"#FFFFFF\"}, \"showarrow\": false, \"text\": \"-0.29\", \"x\": \"ProductRelated\", \"xref\": \"x\", \"y\": \"ExitRate\", \"yref\": \"y\"}, {\"font\": {\"color\": \"#FFFFFF\"}, \"showarrow\": false, \"text\": \"-0.25\", \"x\": \"ProductRelated_Duration\", \"xref\": \"x\", \"y\": \"ExitRate\", \"yref\": \"y\"}, {\"font\": {\"color\": \"#000000\"}, \"showarrow\": false, \"text\": \"0.91\", \"x\": \"BounceRate\", \"xref\": \"x\", \"y\": \"ExitRate\", \"yref\": \"y\"}, {\"font\": {\"color\": \"#000000\"}, \"showarrow\": false, \"text\": \"1.0\", \"x\": \"ExitRate\", \"xref\": \"x\", \"y\": \"ExitRate\", \"yref\": \"y\"}, {\"font\": {\"color\": \"#FFFFFF\"}, \"showarrow\": false, \"text\": \"-0.18\", \"x\": \"PageValue\", \"xref\": \"x\", \"y\": \"ExitRate\", \"yref\": \"y\"}, {\"font\": {\"color\": \"#FFFFFF\"}, \"showarrow\": false, \"text\": \"0.1\", \"x\": \"SpecialDay\", \"xref\": \"x\", \"y\": \"ExitRate\", \"yref\": \"y\"}, {\"font\": {\"color\": \"#FFFFFF\"}, \"showarrow\": false, \"text\": \"-0.1\", \"x\": \"Month\", \"xref\": \"x\", \"y\": \"ExitRate\", \"yref\": \"y\"}, {\"font\": {\"color\": \"#FFFFFF\"}, \"showarrow\": false, \"text\": \"0.18\", \"x\": \"VisitorType\", \"xref\": \"x\", \"y\": \"ExitRate\", \"yref\": \"y\"}, {\"font\": {\"color\": \"#FFFFFF\"}, \"showarrow\": false, \"text\": \"-0.06\", \"x\": \"Weekend\", \"xref\": \"x\", \"y\": \"ExitRate\", \"yref\": \"y\"}, {\"font\": {\"color\": \"#FFFFFF\"}, \"showarrow\": false, \"text\": \"-0.21\", \"x\": \"Transaction\", \"xref\": \"x\", \"y\": \"ExitRate\", \"yref\": \"y\"}, {\"font\": {\"color\": \"#FFFFFF\"}, \"showarrow\": false, \"text\": \"0.1\", \"x\": \"Administrative\", \"xref\": \"x\", \"y\": \"PageValue\", \"yref\": \"y\"}, {\"font\": {\"color\": \"#FFFFFF\"}, \"showarrow\": false, \"text\": \"0.07\", \"x\": \"Administrative_Duration\", \"xref\": \"x\", \"y\": \"PageValue\", \"yref\": \"y\"}, {\"font\": {\"color\": \"#FFFFFF\"}, \"showarrow\": false, \"text\": \"0.05\", \"x\": \"Informational\", \"xref\": \"x\", \"y\": \"PageValue\", \"yref\": \"y\"}, {\"font\": {\"color\": \"#FFFFFF\"}, \"showarrow\": false, \"text\": \"0.03\", \"x\": \"Informational_Duration\", \"xref\": \"x\", \"y\": \"PageValue\", \"yref\": \"y\"}, {\"font\": {\"color\": \"#FFFFFF\"}, \"showarrow\": false, \"text\": \"0.06\", \"x\": \"ProductRelated\", \"xref\": \"x\", \"y\": \"PageValue\", \"yref\": \"y\"}, {\"font\": {\"color\": \"#FFFFFF\"}, \"showarrow\": false, \"text\": \"0.05\", \"x\": \"ProductRelated_Duration\", \"xref\": \"x\", \"y\": \"PageValue\", \"yref\": \"y\"}, {\"font\": {\"color\": \"#FFFFFF\"}, \"showarrow\": false, \"text\": \"-0.12\", \"x\": \"BounceRate\", \"xref\": \"x\", \"y\": \"PageValue\", \"yref\": \"y\"}, {\"font\": {\"color\": \"#FFFFFF\"}, \"showarrow\": false, \"text\": \"-0.18\", \"x\": \"ExitRate\", \"xref\": \"x\", \"y\": \"PageValue\", \"yref\": \"y\"}, {\"font\": {\"color\": \"#000000\"}, \"showarrow\": false, \"text\": \"1.0\", \"x\": \"PageValue\", \"xref\": \"x\", \"y\": \"PageValue\", \"yref\": \"y\"}, {\"font\": {\"color\": \"#FFFFFF\"}, \"showarrow\": false, \"text\": \"-0.06\", \"x\": \"SpecialDay\", \"xref\": \"x\", \"y\": \"PageValue\", \"yref\": \"y\"}, {\"font\": {\"color\": \"#FFFFFF\"}, \"showarrow\": false, \"text\": \"0.06\", \"x\": \"Month\", \"xref\": \"x\", \"y\": \"PageValue\", \"yref\": \"y\"}, {\"font\": {\"color\": \"#FFFFFF\"}, \"showarrow\": false, \"text\": \"-0.11\", \"x\": \"VisitorType\", \"xref\": \"x\", \"y\": \"PageValue\", \"yref\": \"y\"}, {\"font\": {\"color\": \"#FFFFFF\"}, \"showarrow\": false, \"text\": \"0.02\", \"x\": \"Weekend\", \"xref\": \"x\", \"y\": \"PageValue\", \"yref\": \"y\"}, {\"font\": {\"color\": \"#000000\"}, \"showarrow\": false, \"text\": \"0.49\", \"x\": \"Transaction\", \"xref\": \"x\", \"y\": \"PageValue\", \"yref\": \"y\"}, {\"font\": {\"color\": \"#FFFFFF\"}, \"showarrow\": false, \"text\": \"-0.1\", \"x\": \"Administrative\", \"xref\": \"x\", \"y\": \"SpecialDay\", \"yref\": \"y\"}, {\"font\": {\"color\": \"#FFFFFF\"}, \"showarrow\": false, \"text\": \"-0.07\", \"x\": \"Administrative_Duration\", \"xref\": \"x\", \"y\": \"SpecialDay\", \"yref\": \"y\"}, {\"font\": {\"color\": \"#FFFFFF\"}, \"showarrow\": false, \"text\": \"-0.05\", \"x\": \"Informational\", \"xref\": \"x\", \"y\": \"SpecialDay\", \"yref\": \"y\"}, {\"font\": {\"color\": \"#FFFFFF\"}, \"showarrow\": false, \"text\": \"-0.03\", \"x\": \"Informational_Duration\", \"xref\": \"x\", \"y\": \"SpecialDay\", \"yref\": \"y\"}, {\"font\": {\"color\": \"#FFFFFF\"}, \"showarrow\": false, \"text\": \"-0.02\", \"x\": \"ProductRelated\", \"xref\": \"x\", \"y\": \"SpecialDay\", \"yref\": \"y\"}, {\"font\": {\"color\": \"#FFFFFF\"}, \"showarrow\": false, \"text\": \"-0.04\", \"x\": \"ProductRelated_Duration\", \"xref\": \"x\", \"y\": \"SpecialDay\", \"yref\": \"y\"}, {\"font\": {\"color\": \"#FFFFFF\"}, \"showarrow\": false, \"text\": \"0.07\", \"x\": \"BounceRate\", \"xref\": \"x\", \"y\": \"SpecialDay\", \"yref\": \"y\"}, {\"font\": {\"color\": \"#FFFFFF\"}, \"showarrow\": false, \"text\": \"0.1\", \"x\": \"ExitRate\", \"xref\": \"x\", \"y\": \"SpecialDay\", \"yref\": \"y\"}, {\"font\": {\"color\": \"#FFFFFF\"}, \"showarrow\": false, \"text\": \"-0.06\", \"x\": \"PageValue\", \"xref\": \"x\", \"y\": \"SpecialDay\", \"yref\": \"y\"}, {\"font\": {\"color\": \"#000000\"}, \"showarrow\": false, \"text\": \"1.0\", \"x\": \"SpecialDay\", \"xref\": \"x\", \"y\": \"SpecialDay\", \"yref\": \"y\"}, {\"font\": {\"color\": \"#FFFFFF\"}, \"showarrow\": false, \"text\": \"-0.26\", \"x\": \"Month\", \"xref\": \"x\", \"y\": \"SpecialDay\", \"yref\": \"y\"}, {\"font\": {\"color\": \"#FFFFFF\"}, \"showarrow\": false, \"text\": \"0.08\", \"x\": \"VisitorType\", \"xref\": \"x\", \"y\": \"SpecialDay\", \"yref\": \"y\"}, {\"font\": {\"color\": \"#FFFFFF\"}, \"showarrow\": false, \"text\": \"-0.02\", \"x\": \"Weekend\", \"xref\": \"x\", \"y\": \"SpecialDay\", \"yref\": \"y\"}, {\"font\": {\"color\": \"#FFFFFF\"}, \"showarrow\": false, \"text\": \"-0.08\", \"x\": \"Transaction\", \"xref\": \"x\", \"y\": \"SpecialDay\", \"yref\": \"y\"}, {\"font\": {\"color\": \"#FFFFFF\"}, \"showarrow\": false, \"text\": \"0.1\", \"x\": \"Administrative\", \"xref\": \"x\", \"y\": \"Month\", \"yref\": \"y\"}, {\"font\": {\"color\": \"#FFFFFF\"}, \"showarrow\": false, \"text\": \"0.06\", \"x\": \"Administrative_Duration\", \"xref\": \"x\", \"y\": \"Month\", \"yref\": \"y\"}, {\"font\": {\"color\": \"#FFFFFF\"}, \"showarrow\": false, \"text\": \"0.07\", \"x\": \"Informational\", \"xref\": \"x\", \"y\": \"Month\", \"yref\": \"y\"}, {\"font\": {\"color\": \"#FFFFFF\"}, \"showarrow\": false, \"text\": \"0.05\", \"x\": \"Informational_Duration\", \"xref\": \"x\", \"y\": \"Month\", \"yref\": \"y\"}, {\"font\": {\"color\": \"#FFFFFF\"}, \"showarrow\": false, \"text\": \"0.16\", \"x\": \"ProductRelated\", \"xref\": \"x\", \"y\": \"Month\", \"yref\": \"y\"}, {\"font\": {\"color\": \"#FFFFFF\"}, \"showarrow\": false, \"text\": \"0.14\", \"x\": \"ProductRelated_Duration\", \"xref\": \"x\", \"y\": \"Month\", \"yref\": \"y\"}, {\"font\": {\"color\": \"#FFFFFF\"}, \"showarrow\": false, \"text\": \"-0.07\", \"x\": \"BounceRate\", \"xref\": \"x\", \"y\": \"Month\", \"yref\": \"y\"}, {\"font\": {\"color\": \"#FFFFFF\"}, \"showarrow\": false, \"text\": \"-0.1\", \"x\": \"ExitRate\", \"xref\": \"x\", \"y\": \"Month\", \"yref\": \"y\"}, {\"font\": {\"color\": \"#FFFFFF\"}, \"showarrow\": false, \"text\": \"0.06\", \"x\": \"PageValue\", \"xref\": \"x\", \"y\": \"Month\", \"yref\": \"y\"}, {\"font\": {\"color\": \"#FFFFFF\"}, \"showarrow\": false, \"text\": \"-0.26\", \"x\": \"SpecialDay\", \"xref\": \"x\", \"y\": \"Month\", \"yref\": \"y\"}, {\"font\": {\"color\": \"#000000\"}, \"showarrow\": false, \"text\": \"1.0\", \"x\": \"Month\", \"xref\": \"x\", \"y\": \"Month\", \"yref\": \"y\"}, {\"font\": {\"color\": \"#FFFFFF\"}, \"showarrow\": false, \"text\": \"-0.09\", \"x\": \"VisitorType\", \"xref\": \"x\", \"y\": \"Month\", \"yref\": \"y\"}, {\"font\": {\"color\": \"#FFFFFF\"}, \"showarrow\": false, \"text\": \"0.02\", \"x\": \"Weekend\", \"xref\": \"x\", \"y\": \"Month\", \"yref\": \"y\"}, {\"font\": {\"color\": \"#FFFFFF\"}, \"showarrow\": false, \"text\": \"0.13\", \"x\": \"Transaction\", \"xref\": \"x\", \"y\": \"Month\", \"yref\": \"y\"}, {\"font\": {\"color\": \"#FFFFFF\"}, \"showarrow\": false, \"text\": \"-0.03\", \"x\": \"Administrative\", \"xref\": \"x\", \"y\": \"VisitorType\", \"yref\": \"y\"}, {\"font\": {\"color\": \"#FFFFFF\"}, \"showarrow\": false, \"text\": \"-0.02\", \"x\": \"Administrative_Duration\", \"xref\": \"x\", \"y\": \"VisitorType\", \"yref\": \"y\"}, {\"font\": {\"color\": \"#FFFFFF\"}, \"showarrow\": false, \"text\": \"0.05\", \"x\": \"Informational\", \"xref\": \"x\", \"y\": \"VisitorType\", \"yref\": \"y\"}, {\"font\": {\"color\": \"#FFFFFF\"}, \"showarrow\": false, \"text\": \"0.04\", \"x\": \"Informational_Duration\", \"xref\": \"x\", \"y\": \"VisitorType\", \"yref\": \"y\"}, {\"font\": {\"color\": \"#FFFFFF\"}, \"showarrow\": false, \"text\": \"0.12\", \"x\": \"ProductRelated\", \"xref\": \"x\", \"y\": \"VisitorType\", \"yref\": \"y\"}, {\"font\": {\"color\": \"#FFFFFF\"}, \"showarrow\": false, \"text\": \"0.12\", \"x\": \"ProductRelated_Duration\", \"xref\": \"x\", \"y\": \"VisitorType\", \"yref\": \"y\"}, {\"font\": {\"color\": \"#FFFFFF\"}, \"showarrow\": false, \"text\": \"0.14\", \"x\": \"BounceRate\", \"xref\": \"x\", \"y\": \"VisitorType\", \"yref\": \"y\"}, {\"font\": {\"color\": \"#FFFFFF\"}, \"showarrow\": false, \"text\": \"0.18\", \"x\": \"ExitRate\", \"xref\": \"x\", \"y\": \"VisitorType\", \"yref\": \"y\"}, {\"font\": {\"color\": \"#FFFFFF\"}, \"showarrow\": false, \"text\": \"-0.11\", \"x\": \"PageValue\", \"xref\": \"x\", \"y\": \"VisitorType\", \"yref\": \"y\"}, {\"font\": {\"color\": \"#FFFFFF\"}, \"showarrow\": false, \"text\": \"0.08\", \"x\": \"SpecialDay\", \"xref\": \"x\", \"y\": \"VisitorType\", \"yref\": \"y\"}, {\"font\": {\"color\": \"#FFFFFF\"}, \"showarrow\": false, \"text\": \"-0.09\", \"x\": \"Month\", \"xref\": \"x\", \"y\": \"VisitorType\", \"yref\": \"y\"}, {\"font\": {\"color\": \"#000000\"}, \"showarrow\": false, \"text\": \"1.0\", \"x\": \"VisitorType\", \"xref\": \"x\", \"y\": \"VisitorType\", \"yref\": \"y\"}, {\"font\": {\"color\": \"#FFFFFF\"}, \"showarrow\": false, \"text\": \"-0.05\", \"x\": \"Weekend\", \"xref\": \"x\", \"y\": \"VisitorType\", \"yref\": \"y\"}, {\"font\": {\"color\": \"#FFFFFF\"}, \"showarrow\": false, \"text\": \"-0.1\", \"x\": \"Transaction\", \"xref\": \"x\", \"y\": \"VisitorType\", \"yref\": \"y\"}, {\"font\": {\"color\": \"#FFFFFF\"}, \"showarrow\": false, \"text\": \"0.03\", \"x\": \"Administrative\", \"xref\": \"x\", \"y\": \"Weekend\", \"yref\": \"y\"}, {\"font\": {\"color\": \"#FFFFFF\"}, \"showarrow\": false, \"text\": \"0.02\", \"x\": \"Administrative_Duration\", \"xref\": \"x\", \"y\": \"Weekend\", \"yref\": \"y\"}, {\"font\": {\"color\": \"#FFFFFF\"}, \"showarrow\": false, \"text\": \"0.04\", \"x\": \"Informational\", \"xref\": \"x\", \"y\": \"Weekend\", \"yref\": \"y\"}, {\"font\": {\"color\": \"#FFFFFF\"}, \"showarrow\": false, \"text\": \"0.02\", \"x\": \"Informational_Duration\", \"xref\": \"x\", \"y\": \"Weekend\", \"yref\": \"y\"}, {\"font\": {\"color\": \"#FFFFFF\"}, \"showarrow\": false, \"text\": \"0.02\", \"x\": \"ProductRelated\", \"xref\": \"x\", \"y\": \"Weekend\", \"yref\": \"y\"}, {\"font\": {\"color\": \"#FFFFFF\"}, \"showarrow\": false, \"text\": \"0.01\", \"x\": \"ProductRelated_Duration\", \"xref\": \"x\", \"y\": \"Weekend\", \"yref\": \"y\"}, {\"font\": {\"color\": \"#FFFFFF\"}, \"showarrow\": false, \"text\": \"-0.05\", \"x\": \"BounceRate\", \"xref\": \"x\", \"y\": \"Weekend\", \"yref\": \"y\"}, {\"font\": {\"color\": \"#FFFFFF\"}, \"showarrow\": false, \"text\": \"-0.06\", \"x\": \"ExitRate\", \"xref\": \"x\", \"y\": \"Weekend\", \"yref\": \"y\"}, {\"font\": {\"color\": \"#FFFFFF\"}, \"showarrow\": false, \"text\": \"0.02\", \"x\": \"PageValue\", \"xref\": \"x\", \"y\": \"Weekend\", \"yref\": \"y\"}, {\"font\": {\"color\": \"#FFFFFF\"}, \"showarrow\": false, \"text\": \"-0.02\", \"x\": \"SpecialDay\", \"xref\": \"x\", \"y\": \"Weekend\", \"yref\": \"y\"}, {\"font\": {\"color\": \"#FFFFFF\"}, \"showarrow\": false, \"text\": \"0.02\", \"x\": \"Month\", \"xref\": \"x\", \"y\": \"Weekend\", \"yref\": \"y\"}, {\"font\": {\"color\": \"#FFFFFF\"}, \"showarrow\": false, \"text\": \"-0.05\", \"x\": \"VisitorType\", \"xref\": \"x\", \"y\": \"Weekend\", \"yref\": \"y\"}, {\"font\": {\"color\": \"#000000\"}, \"showarrow\": false, \"text\": \"1.0\", \"x\": \"Weekend\", \"xref\": \"x\", \"y\": \"Weekend\", \"yref\": \"y\"}, {\"font\": {\"color\": \"#FFFFFF\"}, \"showarrow\": false, \"text\": \"0.03\", \"x\": \"Transaction\", \"xref\": \"x\", \"y\": \"Weekend\", \"yref\": \"y\"}, {\"font\": {\"color\": \"#FFFFFF\"}, \"showarrow\": false, \"text\": \"0.14\", \"x\": \"Administrative\", \"xref\": \"x\", \"y\": \"Transaction\", \"yref\": \"y\"}, {\"font\": {\"color\": \"#FFFFFF\"}, \"showarrow\": false, \"text\": \"0.09\", \"x\": \"Administrative_Duration\", \"xref\": \"x\", \"y\": \"Transaction\", \"yref\": \"y\"}, {\"font\": {\"color\": \"#FFFFFF\"}, \"showarrow\": false, \"text\": \"0.1\", \"x\": \"Informational\", \"xref\": \"x\", \"y\": \"Transaction\", \"yref\": \"y\"}, {\"font\": {\"color\": \"#FFFFFF\"}, \"showarrow\": false, \"text\": \"0.07\", \"x\": \"Informational_Duration\", \"xref\": \"x\", \"y\": \"Transaction\", \"yref\": \"y\"}, {\"font\": {\"color\": \"#FFFFFF\"}, \"showarrow\": false, \"text\": \"0.16\", \"x\": \"ProductRelated\", \"xref\": \"x\", \"y\": \"Transaction\", \"yref\": \"y\"}, {\"font\": {\"color\": \"#FFFFFF\"}, \"showarrow\": false, \"text\": \"0.15\", \"x\": \"ProductRelated_Duration\", \"xref\": \"x\", \"y\": \"Transaction\", \"yref\": \"y\"}, {\"font\": {\"color\": \"#FFFFFF\"}, \"showarrow\": false, \"text\": \"-0.15\", \"x\": \"BounceRate\", \"xref\": \"x\", \"y\": \"Transaction\", \"yref\": \"y\"}, {\"font\": {\"color\": \"#FFFFFF\"}, \"showarrow\": false, \"text\": \"-0.21\", \"x\": \"ExitRate\", \"xref\": \"x\", \"y\": \"Transaction\", \"yref\": \"y\"}, {\"font\": {\"color\": \"#000000\"}, \"showarrow\": false, \"text\": \"0.49\", \"x\": \"PageValue\", \"xref\": \"x\", \"y\": \"Transaction\", \"yref\": \"y\"}, {\"font\": {\"color\": \"#FFFFFF\"}, \"showarrow\": false, \"text\": \"-0.08\", \"x\": \"SpecialDay\", \"xref\": \"x\", \"y\": \"Transaction\", \"yref\": \"y\"}, {\"font\": {\"color\": \"#FFFFFF\"}, \"showarrow\": false, \"text\": \"0.13\", \"x\": \"Month\", \"xref\": \"x\", \"y\": \"Transaction\", \"yref\": \"y\"}, {\"font\": {\"color\": \"#FFFFFF\"}, \"showarrow\": false, \"text\": \"-0.1\", \"x\": \"VisitorType\", \"xref\": \"x\", \"y\": \"Transaction\", \"yref\": \"y\"}, {\"font\": {\"color\": \"#FFFFFF\"}, \"showarrow\": false, \"text\": \"0.03\", \"x\": \"Weekend\", \"xref\": \"x\", \"y\": \"Transaction\", \"yref\": \"y\"}, {\"font\": {\"color\": \"#000000\"}, \"showarrow\": false, \"text\": \"1.0\", \"x\": \"Transaction\", \"xref\": \"x\", \"y\": \"Transaction\", \"yref\": \"y\"}], \"template\": {\"data\": {\"bar\": [{\"error_x\": {\"color\": \"#2a3f5f\"}, \"error_y\": {\"color\": \"#2a3f5f\"}, \"marker\": {\"line\": {\"color\": \"#E5ECF6\", \"width\": 0.5}}, \"type\": \"bar\"}], \"barpolar\": [{\"marker\": {\"line\": {\"color\": \"#E5ECF6\", \"width\": 0.5}}, \"type\": \"barpolar\"}], \"carpet\": [{\"aaxis\": {\"endlinecolor\": \"#2a3f5f\", \"gridcolor\": \"white\", \"linecolor\": \"white\", \"minorgridcolor\": \"white\", \"startlinecolor\": \"#2a3f5f\"}, \"baxis\": {\"endlinecolor\": \"#2a3f5f\", \"gridcolor\": \"white\", \"linecolor\": \"white\", \"minorgridcolor\": \"white\", \"startlinecolor\": \"#2a3f5f\"}, \"type\": \"carpet\"}], \"choropleth\": [{\"colorbar\": {\"outlinewidth\": 0, \"ticks\": \"\"}, \"type\": \"choropleth\"}], \"contour\": [{\"colorbar\": {\"outlinewidth\": 0, \"ticks\": \"\"}, \"colorscale\": [[0.0, \"#0d0887\"], [0.1111111111111111, \"#46039f\"], [0.2222222222222222, \"#7201a8\"], [0.3333333333333333, \"#9c179e\"], [0.4444444444444444, \"#bd3786\"], [0.5555555555555556, \"#d8576b\"], [0.6666666666666666, \"#ed7953\"], [0.7777777777777778, \"#fb9f3a\"], [0.8888888888888888, \"#fdca26\"], [1.0, \"#f0f921\"]], \"type\": \"contour\"}], \"contourcarpet\": [{\"colorbar\": {\"outlinewidth\": 0, \"ticks\": \"\"}, \"type\": \"contourcarpet\"}], \"heatmap\": [{\"colorbar\": {\"outlinewidth\": 0, \"ticks\": \"\"}, \"colorscale\": [[0.0, \"#0d0887\"], [0.1111111111111111, \"#46039f\"], [0.2222222222222222, \"#7201a8\"], [0.3333333333333333, \"#9c179e\"], [0.4444444444444444, \"#bd3786\"], [0.5555555555555556, \"#d8576b\"], [0.6666666666666666, \"#ed7953\"], [0.7777777777777778, \"#fb9f3a\"], [0.8888888888888888, \"#fdca26\"], [1.0, \"#f0f921\"]], \"type\": \"heatmap\"}], \"heatmapgl\": [{\"colorbar\": {\"outlinewidth\": 0, \"ticks\": \"\"}, \"colorscale\": [[0.0, \"#0d0887\"], [0.1111111111111111, \"#46039f\"], [0.2222222222222222, \"#7201a8\"], [0.3333333333333333, \"#9c179e\"], [0.4444444444444444, \"#bd3786\"], [0.5555555555555556, \"#d8576b\"], [0.6666666666666666, \"#ed7953\"], [0.7777777777777778, \"#fb9f3a\"], [0.8888888888888888, \"#fdca26\"], [1.0, \"#f0f921\"]], \"type\": \"heatmapgl\"}], \"histogram\": [{\"marker\": {\"colorbar\": {\"outlinewidth\": 0, \"ticks\": \"\"}}, \"type\": \"histogram\"}], \"histogram2d\": [{\"colorbar\": {\"outlinewidth\": 0, \"ticks\": \"\"}, \"colorscale\": [[0.0, \"#0d0887\"], [0.1111111111111111, \"#46039f\"], [0.2222222222222222, \"#7201a8\"], [0.3333333333333333, \"#9c179e\"], [0.4444444444444444, \"#bd3786\"], [0.5555555555555556, \"#d8576b\"], [0.6666666666666666, \"#ed7953\"], [0.7777777777777778, \"#fb9f3a\"], [0.8888888888888888, \"#fdca26\"], [1.0, \"#f0f921\"]], \"type\": \"histogram2d\"}], \"histogram2dcontour\": [{\"colorbar\": {\"outlinewidth\": 0, \"ticks\": \"\"}, \"colorscale\": [[0.0, \"#0d0887\"], [0.1111111111111111, \"#46039f\"], [0.2222222222222222, \"#7201a8\"], [0.3333333333333333, \"#9c179e\"], [0.4444444444444444, \"#bd3786\"], [0.5555555555555556, \"#d8576b\"], [0.6666666666666666, \"#ed7953\"], [0.7777777777777778, \"#fb9f3a\"], [0.8888888888888888, \"#fdca26\"], [1.0, \"#f0f921\"]], \"type\": \"histogram2dcontour\"}], \"mesh3d\": [{\"colorbar\": {\"outlinewidth\": 0, \"ticks\": \"\"}, \"type\": \"mesh3d\"}], \"parcoords\": [{\"line\": {\"colorbar\": {\"outlinewidth\": 0, \"ticks\": \"\"}}, \"type\": \"parcoords\"}], \"pie\": [{\"automargin\": true, \"type\": \"pie\"}], \"scatter\": [{\"marker\": {\"colorbar\": {\"outlinewidth\": 0, \"ticks\": \"\"}}, \"type\": \"scatter\"}], \"scatter3d\": [{\"line\": {\"colorbar\": {\"outlinewidth\": 0, \"ticks\": \"\"}}, \"marker\": {\"colorbar\": {\"outlinewidth\": 0, \"ticks\": \"\"}}, \"type\": \"scatter3d\"}], \"scattercarpet\": [{\"marker\": {\"colorbar\": {\"outlinewidth\": 0, \"ticks\": \"\"}}, \"type\": \"scattercarpet\"}], \"scattergeo\": [{\"marker\": {\"colorbar\": {\"outlinewidth\": 0, \"ticks\": \"\"}}, \"type\": \"scattergeo\"}], \"scattergl\": [{\"marker\": {\"colorbar\": {\"outlinewidth\": 0, \"ticks\": \"\"}}, \"type\": \"scattergl\"}], \"scattermapbox\": [{\"marker\": {\"colorbar\": {\"outlinewidth\": 0, \"ticks\": \"\"}}, \"type\": \"scattermapbox\"}], \"scatterpolar\": [{\"marker\": {\"colorbar\": {\"outlinewidth\": 0, \"ticks\": \"\"}}, \"type\": \"scatterpolar\"}], \"scatterpolargl\": [{\"marker\": {\"colorbar\": {\"outlinewidth\": 0, \"ticks\": \"\"}}, \"type\": \"scatterpolargl\"}], \"scatterternary\": [{\"marker\": {\"colorbar\": {\"outlinewidth\": 0, \"ticks\": \"\"}}, \"type\": \"scatterternary\"}], \"surface\": [{\"colorbar\": {\"outlinewidth\": 0, \"ticks\": \"\"}, \"colorscale\": [[0.0, \"#0d0887\"], [0.1111111111111111, \"#46039f\"], [0.2222222222222222, \"#7201a8\"], [0.3333333333333333, \"#9c179e\"], [0.4444444444444444, \"#bd3786\"], [0.5555555555555556, \"#d8576b\"], [0.6666666666666666, \"#ed7953\"], [0.7777777777777778, \"#fb9f3a\"], [0.8888888888888888, \"#fdca26\"], [1.0, \"#f0f921\"]], \"type\": \"surface\"}], \"table\": [{\"cells\": {\"fill\": {\"color\": \"#EBF0F8\"}, \"line\": {\"color\": \"white\"}}, \"header\": {\"fill\": {\"color\": \"#C8D4E3\"}, \"line\": {\"color\": \"white\"}}, \"type\": \"table\"}]}, \"layout\": {\"annotationdefaults\": {\"arrowcolor\": \"#2a3f5f\", \"arrowhead\": 0, \"arrowwidth\": 1}, \"coloraxis\": {\"colorbar\": {\"outlinewidth\": 0, \"ticks\": \"\"}}, \"colorscale\": {\"diverging\": [[0, \"#8e0152\"], [0.1, \"#c51b7d\"], [0.2, \"#de77ae\"], [0.3, \"#f1b6da\"], [0.4, \"#fde0ef\"], [0.5, \"#f7f7f7\"], [0.6, \"#e6f5d0\"], [0.7, \"#b8e186\"], [0.8, \"#7fbc41\"], [0.9, \"#4d9221\"], [1, \"#276419\"]], \"sequential\": [[0.0, \"#0d0887\"], [0.1111111111111111, \"#46039f\"], [0.2222222222222222, \"#7201a8\"], [0.3333333333333333, \"#9c179e\"], [0.4444444444444444, \"#bd3786\"], [0.5555555555555556, \"#d8576b\"], [0.6666666666666666, \"#ed7953\"], [0.7777777777777778, \"#fb9f3a\"], [0.8888888888888888, \"#fdca26\"], [1.0, \"#f0f921\"]], \"sequentialminus\": [[0.0, \"#0d0887\"], [0.1111111111111111, \"#46039f\"], [0.2222222222222222, \"#7201a8\"], [0.3333333333333333, \"#9c179e\"], [0.4444444444444444, \"#bd3786\"], [0.5555555555555556, \"#d8576b\"], [0.6666666666666666, \"#ed7953\"], [0.7777777777777778, \"#fb9f3a\"], [0.8888888888888888, \"#fdca26\"], [1.0, \"#f0f921\"]]}, \"colorway\": [\"#636efa\", \"#EF553B\", \"#00cc96\", \"#ab63fa\", \"#FFA15A\", \"#19d3f3\", \"#FF6692\", \"#B6E880\", \"#FF97FF\", \"#FECB52\"], \"font\": {\"color\": \"#2a3f5f\"}, \"geo\": {\"bgcolor\": \"white\", \"lakecolor\": \"white\", \"landcolor\": \"#E5ECF6\", \"showlakes\": true, \"showland\": true, \"subunitcolor\": \"white\"}, \"hoverlabel\": {\"align\": \"left\"}, \"hovermode\": \"closest\", \"mapbox\": {\"style\": \"light\"}, \"paper_bgcolor\": \"white\", \"plot_bgcolor\": \"#E5ECF6\", \"polar\": {\"angularaxis\": {\"gridcolor\": \"white\", \"linecolor\": \"white\", \"ticks\": \"\"}, \"bgcolor\": \"#E5ECF6\", \"radialaxis\": {\"gridcolor\": \"white\", \"linecolor\": \"white\", \"ticks\": \"\"}}, \"scene\": {\"xaxis\": {\"backgroundcolor\": \"#E5ECF6\", \"gridcolor\": \"white\", \"gridwidth\": 2, \"linecolor\": \"white\", \"showbackground\": true, \"ticks\": \"\", \"zerolinecolor\": \"white\"}, \"yaxis\": {\"backgroundcolor\": \"#E5ECF6\", \"gridcolor\": \"white\", \"gridwidth\": 2, \"linecolor\": \"white\", \"showbackground\": true, \"ticks\": \"\", \"zerolinecolor\": \"white\"}, \"zaxis\": {\"backgroundcolor\": \"#E5ECF6\", \"gridcolor\": \"white\", \"gridwidth\": 2, \"linecolor\": \"white\", \"showbackground\": true, \"ticks\": \"\", \"zerolinecolor\": \"white\"}}, \"shapedefaults\": {\"line\": {\"color\": \"#2a3f5f\"}}, \"ternary\": {\"aaxis\": {\"gridcolor\": \"white\", \"linecolor\": \"white\", \"ticks\": \"\"}, \"baxis\": {\"gridcolor\": \"white\", \"linecolor\": \"white\", \"ticks\": \"\"}, \"bgcolor\": \"#E5ECF6\", \"caxis\": {\"gridcolor\": \"white\", \"linecolor\": \"white\", \"ticks\": \"\"}}, \"title\": {\"x\": 0.05}, \"xaxis\": {\"automargin\": true, \"gridcolor\": \"white\", \"linecolor\": \"white\", \"ticks\": \"\", \"title\": {\"standoff\": 15}, \"zerolinecolor\": \"white\", \"zerolinewidth\": 2}, \"yaxis\": {\"automargin\": true, \"gridcolor\": \"white\", \"linecolor\": \"white\", \"ticks\": \"\", \"title\": {\"standoff\": 15}, \"zerolinecolor\": \"white\", \"zerolinewidth\": 2}}}, \"xaxis\": {\"dtick\": 1, \"gridcolor\": \"rgb(0, 0, 0)\", \"side\": \"top\", \"ticks\": \"\"}, \"yaxis\": {\"dtick\": 1, \"ticks\": \"\", \"ticksuffix\": \"  \"}},\n",
              "                        {\"responsive\": true}\n",
              "                    ).then(function(){\n",
              "                            \n",
              "var gd = document.getElementById('8e440be5-b56f-44d4-9309-3daa5ac5ed35');\n",
              "var x = new MutationObserver(function (mutations, observer) {{\n",
              "        var display = window.getComputedStyle(gd).display;\n",
              "        if (!display || display === 'none') {{\n",
              "            console.log([gd, 'removed!']);\n",
              "            Plotly.purge(gd);\n",
              "            observer.disconnect();\n",
              "        }}\n",
              "}});\n",
              "\n",
              "// Listen for the removal of the full notebook cells\n",
              "var notebookContainer = gd.closest('#notebook-container');\n",
              "if (notebookContainer) {{\n",
              "    x.observe(notebookContainer, {childList: true});\n",
              "}}\n",
              "\n",
              "// Listen for the clearing of the current output cell\n",
              "var outputEl = gd.closest('.output');\n",
              "if (outputEl) {{\n",
              "    x.observe(outputEl, {childList: true});\n",
              "}}\n",
              "\n",
              "                        })\n",
              "                };\n",
              "                \n",
              "            </script>\n",
              "        </div>\n",
              "</body>\n",
              "</html>"
            ]
          },
          "metadata": {
            "tags": []
          }
        }
      ]
    },
    {
      "cell_type": "code",
      "metadata": {
        "id": "fV4Kf1Bbelb0"
      },
      "source": [
        "dataset= dataset.drop(['ExitRate','ProductRelated'],axis =1)"
      ],
      "execution_count": 13,
      "outputs": []
    },
    {
      "cell_type": "code",
      "metadata": {
        "colab": {
          "base_uri": "https://localhost:8080/"
        },
        "id": "pE6RK88ud1Dg",
        "outputId": "d510b5af-c893-4779-c04e-1816a9fe3217"
      },
      "source": [
        "# Dividing dataset into label and feature sets\n",
        "X = dataset.drop('Transaction', axis = 1) # Features\n",
        "Y = dataset['Transaction'] # Labels\n",
        "print(type(X))\n",
        "print(type(Y))\n",
        "print(X.shape)\n",
        "print(Y.shape)\n",
        "# Normalizing numerical features so that each feature has mean 0 and variance 1\n",
        "feature_scaler = StandardScaler()\n",
        "X_scaled = feature_scaler.fit_transform(X)\n",
        "\n",
        "# Dividing dataset into training and test sets\n",
        "X_train, X_test, Y_train, Y_test = train_test_split( X_scaled, Y, test_size = 0.3, random_state = 100)\n",
        "\n",
        "print(X_train.shape)\n",
        "print(X_test.shape)"
      ],
      "execution_count": 16,
      "outputs": [
        {
          "output_type": "stream",
          "text": [
            "<class 'pandas.core.frame.DataFrame'>\n",
            "<class 'pandas.core.series.Series'>\n",
            "(12245, 11)\n",
            "(12245,)\n",
            "(8571, 11)\n",
            "(3674, 11)\n"
          ],
          "name": "stdout"
        }
      ]
    },
    {
      "cell_type": "code",
      "metadata": {
        "colab": {
          "base_uri": "https://localhost:8080/"
        },
        "id": "FW0oaE7JgKNu",
        "outputId": "27c08fa5-38a9-4b44-daa4-c7591f40369d"
      },
      "source": [
        "# Implementing Oversampling to balance the dataset using SMOT\n",
        "print(\"Number of observations in each class before oversampling (training data): \\n\", pd.Series(Y_train).value_counts())\n",
        "smote = SMOTE(random_state = 101)\n",
        "X_train,Y_train = smote.fit_sample(X_train,Y_train)\n",
        "print(\"Number of observations in each class after oversampling (training data): \\n\", pd.Series(Y_train).value_counts())"
      ],
      "execution_count": 17,
      "outputs": [
        {
          "output_type": "stream",
          "text": [
            "Number of observations in each class before oversampling (training data): \n",
            " 0    7248\n",
            "1    1323\n",
            "Name: Transaction, dtype: int64\n",
            "Number of observations in each class after oversampling (training data): \n",
            " 1    7248\n",
            "0    7248\n",
            "dtype: int64\n"
          ],
          "name": "stdout"
        },
        {
          "output_type": "stream",
          "text": [
            "/usr/local/lib/python3.7/dist-packages/sklearn/utils/deprecation.py:87: FutureWarning:\n",
            "\n",
            "Function safe_indexing is deprecated; safe_indexing is deprecated in version 0.22 and will be removed in version 0.24.\n",
            "\n"
          ],
          "name": "stderr"
        }
      ]
    },
    {
      "cell_type": "markdown",
      "metadata": {
        "id": "VP70udIJhruR"
      },
      "source": [
        "## Model Creation\n",
        "\n",
        "If we analyse \n",
        "confusion matrix we get that false positive are the people who are predicted as the one who \n",
        "made transaction but in reality they didn’t and false negative are people who actually did \n",
        "transaction but predicted as they didn’t. As an online store it is important for a website to not \n",
        "loose on potential customer. Therefore, it is important for to tune our model as we get minimum \n",
        "false positive. We believe false negative people are anyways going to make transaction. But if \n",
        "our model predict more false positive customer ,it is potential lose for shop as they won’t get \n",
        "chance to improve their experience as they are already classified as customer ."
      ]
    },
    {
      "cell_type": "markdown",
      "metadata": {
        "id": "4en4mt09iJMs"
      },
      "source": [
        "#### **Random Forest**"
      ]
    },
    {
      "cell_type": "code",
      "metadata": {
        "colab": {
          "base_uri": "https://localhost:8080/"
        },
        "id": "SZjtgbAkgQ0e",
        "outputId": "2a95295d-00e1-43e5-c6fc-250cecd17bab"
      },
      "source": [
        "# Tuning the random forest parameter 'n_estimators' and implementing cross-validation using Grid Search\n",
        "rfc = RandomForestClassifier(criterion='entropy', max_features='auto', random_state=1)\n",
        "grid_param = {'n_estimators': [200, 250, 300, 350, 400,450]}\n",
        "gd_sr = GridSearchCV(estimator=rfc, param_grid=grid_param, scoring='precision', cv=5)\n",
        "gd_sr.fit(X_train, Y_train)\n",
        "best_parameters = gd_sr.best_params_\n",
        "print(best_parameters)\n",
        "best_result = gd_sr.best_score_ \n",
        "print(best_result)"
      ],
      "execution_count": 18,
      "outputs": [
        {
          "output_type": "stream",
          "text": [
            "{'n_estimators': 450}\n",
            "0.9072774958638107\n"
          ],
          "name": "stdout"
        }
      ]
    },
    {
      "cell_type": "code",
      "metadata": {
        "colab": {
          "base_uri": "https://localhost:8080/",
          "height": 911
        },
        "id": "q3VXY0eagTtn",
        "outputId": "f801029c-ef30-43f0-80db-c6c529507210"
      },
      "source": [
        "# Building random forest using the tuned parameter\n",
        "rfc = RandomForestClassifier(n_estimators=350, criterion='entropy', max_features='auto', random_state=1)\n",
        "rfc.fit(X_train,Y_train)\n",
        "featimp = pd.Series(rfc.feature_importances_, index=list(X)).sort_values(ascending=False)\n",
        "print(featimp)\n",
        "# Predicitng on Test Data\n",
        "Y_pred = rfc.predict(X_test)\n",
        "print('Classification report: \\n', metrics.classification_report(Y_test, Y_pred))\n",
        "conf_mat = metrics.confusion_matrix(Y_test, Y_pred)\n",
        "plt.figure(figsize=(8,6))\n",
        "sns.heatmap(conf_mat,annot=True)\n",
        "plt.title(\"Confusion_matrix\")\n",
        "plt.xlabel(\"Predicted Class\")\n",
        "plt.ylabel(\"Actual class\")\n",
        "plt.show()\n",
        "print('Confusion matrix: \\n', conf_mat)\n",
        "print('TP: ', conf_mat[1,1])\n",
        "print('TN: ', conf_mat[0,0])\n",
        "print('FP: ', conf_mat[0,1])\n",
        "print('FN: ', conf_mat[1,0])"
      ],
      "execution_count": 19,
      "outputs": [
        {
          "output_type": "stream",
          "text": [
            "PageValue                  0.419886\n",
            "ProductRelated_Duration    0.129607\n",
            "Month                      0.115694\n",
            "BounceRate                 0.093791\n",
            "Administrative             0.083926\n",
            "Administrative_Duration    0.073725\n",
            "Informational_Duration     0.025348\n",
            "Informational              0.024240\n",
            "VisitorType                0.014071\n",
            "Weekend                    0.011993\n",
            "SpecialDay                 0.007716\n",
            "dtype: float64\n",
            "Classification report: \n",
            "               precision    recall  f1-score   support\n",
            "\n",
            "           0       0.95      0.90      0.92      3105\n",
            "           1       0.57      0.72      0.64       569\n",
            "\n",
            "    accuracy                           0.87      3674\n",
            "   macro avg       0.76      0.81      0.78      3674\n",
            "weighted avg       0.89      0.87      0.88      3674\n",
            "\n"
          ],
          "name": "stdout"
        },
        {
          "output_type": "display_data",
          "data": {
            "image/png": "[encoded data removed]",
            "text/plain": [
              "<Figure size 576x432 with 2 Axes>"
            ]
          },
          "metadata": {
            "tags": [],
            "needs_background": "light"
          }
        },
        {
          "output_type": "stream",
          "text": [
            "Confusion matrix: \n",
            " [[2798  307]\n",
            " [ 160  409]]\n",
            "TP:  409\n",
            "TN:  2798\n",
            "FP:  307\n",
            "FN:  160\n"
          ],
          "name": "stdout"
        }
      ]
    },
    {
      "cell_type": "code",
      "metadata": {
        "colab": {
          "base_uri": "https://localhost:8080/",
          "height": 771
        },
        "id": "97d3HX25gYCf",
        "outputId": "2ba7d481-b6c0-4275-fcdb-2756946a1024"
      },
      "source": [
        "# Selecting features with higher sifnificance and building random forest\n",
        "X1 = dataset[['PageValue','ProductRelated_Duration','Month','BounceRate','Administrative','Administrative_Duration']]\n",
        "feature_scaler = StandardScaler()\n",
        "X1_scaled = feature_scaler.fit_transform(X1)\n",
        "X1_train, X1_test, Y1_train, Y1_test = train_test_split( X1_scaled, Y, test_size = 0.3, random_state = 100)\n",
        "smote = SMOTE(random_state = 101)\n",
        "X1_train,Y1_train = smote.fit_sample(X1_train,Y1_train)\n",
        "rfc = RandomForestClassifier(n_estimators=350, criterion='entropy', max_features='auto', random_state=1)\n",
        "rfc.fit(X1_train,Y1_train)\n",
        "Y_pred = rfc.predict(X1_test)\n",
        "print('Classification report: \\n', metrics.classification_report(Y1_test, Y_pred))\n",
        "conf_mat = metrics.confusion_matrix(Y1_test, Y_pred)\n",
        "plt.figure(figsize=(8,6))\n",
        "sns.heatmap(conf_mat,annot=True)\n",
        "plt.title(\"Confusion_matrix\")\n",
        "plt.xlabel(\"Predicted Class\")\n",
        "plt.ylabel(\"Actual class\")\n",
        "plt.show()\n",
        "print('Confusion matrix: \\n', conf_mat)\n",
        "print('TP: ', conf_mat[1,1])\n",
        "print('TN: ', conf_mat[0,0])\n",
        "print('FP: ', conf_mat[0,1])\n",
        "print('FN: ', conf_mat[1,0])"
      ],
      "execution_count": 21,
      "outputs": [
        {
          "output_type": "stream",
          "text": [
            "/usr/local/lib/python3.7/dist-packages/sklearn/utils/deprecation.py:87: FutureWarning:\n",
            "\n",
            "Function safe_indexing is deprecated; safe_indexing is deprecated in version 0.22 and will be removed in version 0.24.\n",
            "\n"
          ],
          "name": "stderr"
        },
        {
          "output_type": "stream",
          "text": [
            "Classification report: \n",
            "               precision    recall  f1-score   support\n",
            "\n",
            "           0       0.95      0.90      0.92      3105\n",
            "           1       0.56      0.72      0.63       569\n",
            "\n",
            "    accuracy                           0.87      3674\n",
            "   macro avg       0.75      0.81      0.77      3674\n",
            "weighted avg       0.89      0.87      0.87      3674\n",
            "\n"
          ],
          "name": "stdout"
        },
        {
          "output_type": "display_data",
          "data": {
            "image/png": "[encoded data removed]",
            "text/plain": [
              "<Figure size 576x432 with 2 Axes>"
            ]
          },
          "metadata": {
            "tags": [],
            "needs_background": "light"
          }
        },
        {
          "output_type": "stream",
          "text": [
            "Confusion matrix: \n",
            " [[2780  325]\n",
            " [ 161  408]]\n",
            "TP:  408\n",
            "TN:  2780\n",
            "FP:  325\n",
            "FN:  161\n"
          ],
          "name": "stdout"
        }
      ]
    },
    {
      "cell_type": "markdown",
      "metadata": {
        "id": "hkV0Z-UPiT3d"
      },
      "source": [
        "**Result** : We used random forest method on the dataset, using \n",
        "grid search we got that total number of trees to be grown are \n",
        "350 and feature importance’s list. \n",
        "When used all the variable we get False positive as 325.But we \n",
        "know that using all variables results in overfitting model and \n",
        "wrong result. To avoid this problem, we use difference \n",
        "combination of features importance to find better result. When \n",
        "we used first 8 features, we our result is slightly above the old \n",
        "result. Even if the FP number is increasing little bit our model \n",
        "is not overfitting."
      ]
    },
    {
      "cell_type": "markdown",
      "metadata": {
        "id": "-OOhbBfWjI77"
      },
      "source": [
        "#### **Adaptive boost** :"
      ]
    },
    {
      "cell_type": "code",
      "metadata": {
        "colab": {
          "base_uri": "https://localhost:8080/",
          "height": 911
        },
        "id": "F_reIfy-gjU3",
        "outputId": "850d4cfb-f72a-41b3-9d4a-8fccfd457145"
      },
      "source": [
        "\n",
        "# Tuning the AdaBoost parameter 'n_estimators' and implementing cross-validation using Grid Search\n",
        "abc = AdaBoostClassifier(random_state=1)\n",
        "grid_param = {'n_estimators': [200,400,550,450]}\n",
        "gd_sr = GridSearchCV(estimator=abc, param_grid=grid_param, scoring='precision', cv=5)\n",
        "gd_sr.fit(X_train, Y_train)\n",
        "best_parameters = gd_sr.best_params_\n",
        "#print(best_parameters)\n",
        "#best_result = gd_sr.best_score_ \n",
        "#print(best_result)\n",
        "\n",
        "# Building AdaBoost using the tuned parameter\n",
        "abc = AdaBoostClassifier(n_estimators=550, random_state=1)\n",
        "abc.fit(X_train,Y_train)\n",
        "featimp = pd.Series(abc.feature_importances_, index=list(X)).sort_values(ascending=False)\n",
        "print(featimp)\n",
        "# Applying adaboost on test data\n",
        "Y_pred = abc.predict(X_test)\n",
        "print('Classification report: \\n', metrics.classification_report(Y_test, Y_pred))\n",
        "conf_mat = metrics.confusion_matrix(Y_test, Y_pred)\n",
        "plt.figure(figsize=(8,6))\n",
        "sns.heatmap(conf_mat,annot=True)\n",
        "plt.title(\"Confusion_matrix\")\n",
        "plt.xlabel(\"Predicted Class\")\n",
        "plt.ylabel(\"Actual class\")\n",
        "plt.show()\n",
        "print('Confusion matrix: \\n', conf_mat)\n",
        "print('TP: ', conf_mat[1,1])\n",
        "print('TN: ', conf_mat[0,0])\n",
        "print('FP: ', conf_mat[0,1])\n",
        "print('FN: ', conf_mat[1,0])"
      ],
      "execution_count": 23,
      "outputs": [
        {
          "output_type": "stream",
          "text": [
            "Administrative             0.487273\n",
            "Month                      0.196364\n",
            "Informational              0.127273\n",
            "PageValue                  0.049091\n",
            "BounceRate                 0.047273\n",
            "ProductRelated_Duration    0.043636\n",
            "Administrative_Duration    0.025455\n",
            "Informational_Duration     0.010909\n",
            "SpecialDay                 0.007273\n",
            "VisitorType                0.003636\n",
            "Weekend                    0.001818\n",
            "dtype: float64\n",
            "Classification report: \n",
            "               precision    recall  f1-score   support\n",
            "\n",
            "           0       0.94      0.91      0.93      3105\n",
            "           1       0.59      0.69      0.63       569\n",
            "\n",
            "    accuracy                           0.88      3674\n",
            "   macro avg       0.76      0.80      0.78      3674\n",
            "weighted avg       0.89      0.88      0.88      3674\n",
            "\n"
          ],
          "name": "stdout"
        },
        {
          "output_type": "display_data",
          "data": {
            "image/png": "[encoded data removed]",
            "text/plain": [
              "<Figure size 576x432 with 2 Axes>"
            ]
          },
          "metadata": {
            "tags": [],
            "needs_background": "light"
          }
        },
        {
          "output_type": "stream",
          "text": [
            "Confusion matrix: \n",
            " [[2833  272]\n",
            " [ 179  390]]\n",
            "TP:  390\n",
            "TN:  2833\n",
            "FP:  272\n",
            "FN:  179\n"
          ],
          "name": "stdout"
        }
      ]
    },
    {
      "cell_type": "markdown",
      "metadata": {
        "id": "jEzHxAatja0O"
      },
      "source": [
        "**Result**: In adaptive boosting technique, we grow our decision tree simultaneously along with \n",
        "strengthening the weak classifier. It corrects the weight of wrongly classified data and learn \n",
        "from it. When we ran grid search for AdaBoost model we get n-estimetre as 550. \n",
        "After completion of training and testing model we got very improved result. Our AdaBoost \n",
        "model were giving less false positives than random forest. Performance was improved by \n",
        "almost 12%. When we see the feature importances we see Administrative and Month playes \n",
        "more significant rold in correctoredicton.AdaBoost predicts 87% correct result."
      ]
    },
    {
      "cell_type": "markdown",
      "metadata": {
        "id": "kuK4jOx-juwr"
      },
      "source": [
        "#### **Gradient Boosting** :"
      ]
    },
    {
      "cell_type": "code",
      "metadata": {
        "colab": {
          "base_uri": "https://localhost:8080/",
          "height": 911
        },
        "id": "BkGkWmTlgqim",
        "outputId": "bc6dc428-94c9-461a-a92b-e5c5073d7bc0"
      },
      "source": [
        "# Tuning the Gradent Boost parameter 'n_estimators', 'Max_depth' and ' Leaf_Node; and implementing cross-validation using Grid Search\n",
        "#gbc = GradientBoostingClassifier(random_state=1)\n",
        "#grid_param = {'n_estimators': [100,150,200,250,300], 'max_depth' : [4,5,6,8,9,10,11,12], 'max_leaf_nodes': [8,12,16,20,24,28,32]}\n",
        "#gd_sr = GridSearchCV(estimator=gbc, param_grid=grid_param, scoring='precision', cv=5)\n",
        "#gd_sr.fit(X_train, Y_train)\n",
        "#best_parameters = gd_sr.best_params_\n",
        "#print(best_parameters)\n",
        "#best_result = gd_sr.best_score_ \n",
        "#print(best_result)\n",
        "\n",
        "# Building Gradient Boost using the tuned parameter\n",
        "gbc = GradientBoostingClassifier(n_estimators=200, max_depth=10, max_leaf_nodes=32, random_state=1)\n",
        "gbc.fit(X_train,Y_train)\n",
        "featimp = pd.Series(gbc.feature_importances_, index=list(X)).sort_values(ascending=False)\n",
        "print(featimp)\n",
        "#applying gradent boost on test data\n",
        "Y_pred = gbc.predict(X_test)\n",
        "print('Classification report: \\n', metrics.classification_report(Y_test, Y_pred))\n",
        "conf_mat = metrics.confusion_matrix(Y_test, Y_pred)\n",
        "plt.figure(figsize=(8,6))\n",
        "sns.heatmap(conf_mat,annot=True)\n",
        "plt.title(\"Confusion_matrix\")\n",
        "plt.xlabel(\"Predicted Class\")\n",
        "plt.ylabel(\"Actual class\")\n",
        "plt.show()\n",
        "print('Confusion matrix: \\n', conf_mat)\n",
        "print('TP: ', conf_mat[1,1])\n",
        "print('TN: ', conf_mat[0,0])\n",
        "print('FP: ', conf_mat[0,1])\n",
        "print('FN: ', conf_mat[1,0])"
      ],
      "execution_count": 25,
      "outputs": [
        {
          "output_type": "stream",
          "text": [
            "PageValue                  0.659790\n",
            "Month                      0.127201\n",
            "Administrative             0.056753\n",
            "ProductRelated_Duration    0.049246\n",
            "BounceRate                 0.040187\n",
            "Administrative_Duration    0.030965\n",
            "Informational              0.011774\n",
            "Informational_Duration     0.011053\n",
            "VisitorType                0.006451\n",
            "SpecialDay                 0.004181\n",
            "Weekend                    0.002400\n",
            "dtype: float64\n",
            "Classification report: \n",
            "               precision    recall  f1-score   support\n",
            "\n",
            "           0       0.94      0.92      0.93      3105\n",
            "           1       0.60      0.67      0.63       569\n",
            "\n",
            "    accuracy                           0.88      3674\n",
            "   macro avg       0.77      0.79      0.78      3674\n",
            "weighted avg       0.89      0.88      0.88      3674\n",
            "\n"
          ],
          "name": "stdout"
        },
        {
          "output_type": "display_data",
          "data": {
            "image/png": "[encoded data removed]",
            "text/plain": [
              "<Figure size 576x432 with 2 Axes>"
            ]
          },
          "metadata": {
            "tags": [],
            "needs_background": "light"
          }
        },
        {
          "output_type": "stream",
          "text": [
            "Confusion matrix: \n",
            " [[2853  252]\n",
            " [ 190  379]]\n",
            "TP:  379\n",
            "TN:  2853\n",
            "FP:  252\n",
            "FN:  190\n"
          ],
          "name": "stdout"
        }
      ]
    },
    {
      "cell_type": "markdown",
      "metadata": {
        "id": "4z9XmVuMj1gW"
      },
      "source": [
        "**Result**: Gradient Boosting techniques is like Adaboost techniques, where trees are grown while \n",
        "learning from mistakes. The major difference between Adaptive Boost and Gradient boost \n",
        "is how algorithms identifies shortcoming in weak learner. After running Grid search using \n",
        "gradient boosting classifier the algorithm tells us that 200 optimum number of trees to be \n",
        "grown with the depth of 10 and each having 32 leaf nodes. This information tells us how \n",
        "big our trees are going to grow. The results were much better this time and we can say that \n",
        "our model is learning from it’s mistakes.\n",
        "As our model learnd from eveyr mistake it does, Gradient boos methode allows us to \n",
        "minimise the false positive significantly . Even though it slightly increases false negative, \n",
        "these are still going to be our customer and we don’t have to worry about them.It improves \n",
        "our model by 18.9% with respect to random forest. we can observe number of page person \n",
        "go through increases the prediction rate"
      ]
    },
    {
      "cell_type": "markdown",
      "metadata": {
        "id": "pydQTZWqkL7F"
      },
      "source": [
        "## Conclusion\n",
        "\n",
        "We recommend website to use Gradient boost model to predict if the person will make \n",
        "transaction or not. As this model gives least amount of false positive with 87.9% of corrcte \n",
        "prediction.which will allow website to improve the experience of more people and convert \n",
        "them. If our model predict that’s a person will not convert our webiste can pull that \n",
        "customer to the most effective pages using better ads, attractive recommendation and \n",
        "offers. The great way to pull negative predicted customer is by giving little bit discount. I \n",
        "belive if a customer is predicted as Non converting giving him little discount might \n",
        "increase chances of transaction.Website can run a marketing campaing on special days,as \n",
        "most of the people buys goods on such days. Website can also make more engading and \n",
        "attractive pages, as more pages a person visit the better model prediction and easier it is \n",
        "for website to show relevant ads and product. Also by minimising the bounce rate by right \n",
        "landing page optimisation will help webiste to increase the sales.I belive these are some \n",
        "baisc recommendation will help in improvning the transactions"
      ]
    }
  ]
}